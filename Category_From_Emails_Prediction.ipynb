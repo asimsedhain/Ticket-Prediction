{
 "cells": [
  {
   "cell_type": "markdown",
   "metadata": {},
   "source": [
    "# Predicting Category of an incident based on the information provided by the customer"
   ]
  },
  {
   "cell_type": "markdown",
   "metadata": {},
   "source": [
    "A University IT department receives help request in the form of IT tickets with a short description of the problem and addtional comments. The tickets are then passed to a human to be manually categoried into the appropriate department which will then handle the help request. This process is labor intensive and can be prone to error.\n",
    "\n",
    "In this notebook, I will be automating the process of labling each help request into their appropriate department.\n",
    "\n",
    "The input for this project is a CSV file containing the help request emails sent to an IT technician that has been prelabled manually. The output will be the category for the help request. \n",
    "\n",
    "**Table of Content**\n",
    " - [First look at the data](#First-look-at-the-data)\n",
    " - [Data Cleaning](#Data-Cleaning)\n",
    " - [Exploratory Data Analysis](#Exploratory-Data-Analysis)\n",
    " - [Modeling](#Modeling)\n",
    " - Evaluation"
   ]
  },
  {
   "cell_type": "markdown",
   "metadata": {},
   "source": [
    "#### Importing all the needed libraries"
   ]
  },
  {
   "cell_type": "code",
   "execution_count": 68,
   "metadata": {},
   "outputs": [],
   "source": [
    "import pandas as pd\n",
    "import seaborn as sns\n",
    "import numpy as np\n",
    "import sklearn\n",
    "import scipy as sc\n",
    "import re\n",
    "from sklearn.feature_extraction.text import CountVectorizer\n",
    "from sklearn.model_selection import train_test_split\n",
    "from sklearn.linear_model import LogisticRegression\n",
    "from sklearn.naive_bayes import MultinomialNB\n",
    "from sklearn import svm\n",
    "from sklearn.ensemble import RandomForestClassifier\n",
    "from sklearn.ensemble import GradientBoostingClassifier\n",
    "from sklearn.ensemble import VotingClassifier\n",
    "from sklearn.neighbors import KNeighborsClassifier\n",
    "from sklearn.feature_extraction.text import TfidfVectorizer\n",
    "from sklearn.model_selection import GridSearchCV\n",
    "from sklearn.pipeline import Pipeline\n",
    "from sklearn.externals import joblib\n",
    "from sklearn.metrics import confusion_matrix"
   ]
  },
  {
   "cell_type": "markdown",
   "metadata": {},
   "source": [
    "#### Importing the data that is in cvs format"
   ]
  },
  {
   "cell_type": "code",
   "execution_count": 2,
   "metadata": {},
   "outputs": [],
   "source": [
    "email_df = pd.read_csv(\"emails.csv\", encoding='latin1')"
   ]
  },
  {
   "cell_type": "markdown",
   "metadata": {},
   "source": [
    "# First look at the data"
   ]
  },
  {
   "cell_type": "code",
   "execution_count": 3,
   "metadata": {},
   "outputs": [
    {
     "data": {
      "text/html": [
       "<div>\n",
       "<style scoped>\n",
       "    .dataframe tbody tr th:only-of-type {\n",
       "        vertical-align: middle;\n",
       "    }\n",
       "\n",
       "    .dataframe tbody tr th {\n",
       "        vertical-align: top;\n",
       "    }\n",
       "\n",
       "    .dataframe thead th {\n",
       "        text-align: right;\n",
       "    }\n",
       "</style>\n",
       "<table border=\"1\" class=\"dataframe\">\n",
       "  <thead>\n",
       "    <tr style=\"text-align: right;\">\n",
       "      <th></th>\n",
       "      <th>Subject</th>\n",
       "      <th>Body</th>\n",
       "      <th>From: (Name)</th>\n",
       "      <th>From: (Address)</th>\n",
       "      <th>From: (Type)</th>\n",
       "      <th>To: (Name)</th>\n",
       "      <th>To: (Address)</th>\n",
       "      <th>To: (Type)</th>\n",
       "      <th>CC: (Name)</th>\n",
       "      <th>CC: (Address)</th>\n",
       "      <th>CC: (Type)</th>\n",
       "      <th>BCC: (Name)</th>\n",
       "      <th>BCC: (Address)</th>\n",
       "      <th>BCC: (Type)</th>\n",
       "      <th>Billing Information</th>\n",
       "      <th>Categories</th>\n",
       "      <th>Importance</th>\n",
       "      <th>Mileage</th>\n",
       "      <th>Sensitivity</th>\n",
       "    </tr>\n",
       "  </thead>\n",
       "  <tbody>\n",
       "    <tr>\n",
       "      <th>1</th>\n",
       "      <td>Preview of the May Agenda</td>\n",
       "      <td>Good morning! We would like to invite you to o...</td>\n",
       "      <td>Lynette Sutter</td>\n",
       "      <td>/O=UTTYLER ORGANIZATION/OU=EXCHANGE ADMINISTRA...</td>\n",
       "      <td>EX</td>\n",
       "      <td>NaN</td>\n",
       "      <td>NaN</td>\n",
       "      <td>NaN</td>\n",
       "      <td>NaN</td>\n",
       "      <td>NaN</td>\n",
       "      <td>NaN</td>\n",
       "      <td>NaN</td>\n",
       "      <td>NaN</td>\n",
       "      <td>NaN</td>\n",
       "      <td>NaN</td>\n",
       "      <td>NaN</td>\n",
       "      <td>Normal</td>\n",
       "      <td>NaN</td>\n",
       "      <td>Normal</td>\n",
       "    </tr>\n",
       "    <tr>\n",
       "      <th>2</th>\n",
       "      <td>CEP Dean Candidate Campus Wide Presentation/Go...</td>\n",
       "      <td>Please use the link below to access the Zoom r...</td>\n",
       "      <td>Beth Bruce</td>\n",
       "      <td>/O=UTTYLER ORGANIZATION/OU=EXCHANGE ADMINISTRA...</td>\n",
       "      <td>EX</td>\n",
       "      <td>NaN</td>\n",
       "      <td>NaN</td>\n",
       "      <td>NaN</td>\n",
       "      <td>NaN</td>\n",
       "      <td>NaN</td>\n",
       "      <td>NaN</td>\n",
       "      <td>NaN</td>\n",
       "      <td>NaN</td>\n",
       "      <td>NaN</td>\n",
       "      <td>NaN</td>\n",
       "      <td>NaN</td>\n",
       "      <td>Normal</td>\n",
       "      <td>NaN</td>\n",
       "      <td>Normal</td>\n",
       "    </tr>\n",
       "    <tr>\n",
       "      <th>3</th>\n",
       "      <td>CEP Dean Candidate Campus Wide Presentation/Ro...</td>\n",
       "      <td>Please use the link below to access the Zoom r...</td>\n",
       "      <td>Beth Bruce</td>\n",
       "      <td>/O=UTTYLER ORGANIZATION/OU=EXCHANGE ADMINISTRA...</td>\n",
       "      <td>EX</td>\n",
       "      <td>NaN</td>\n",
       "      <td>NaN</td>\n",
       "      <td>NaN</td>\n",
       "      <td>NaN</td>\n",
       "      <td>NaN</td>\n",
       "      <td>NaN</td>\n",
       "      <td>NaN</td>\n",
       "      <td>NaN</td>\n",
       "      <td>NaN</td>\n",
       "      <td>NaN</td>\n",
       "      <td>NaN</td>\n",
       "      <td>Normal</td>\n",
       "      <td>NaN</td>\n",
       "      <td>Normal</td>\n",
       "    </tr>\n",
       "    <tr>\n",
       "      <th>4</th>\n",
       "      <td>University Appreciation Week - A Few Reminders</td>\n",
       "      <td>Hello everyone!\\r\\n\\r\\n \\r\\n\\r\\nPlease see the...</td>\n",
       "      <td>usac</td>\n",
       "      <td>/O=UTTYLER ORGANIZATION/OU=EXCHANGE ADMINISTRA...</td>\n",
       "      <td>EX</td>\n",
       "      <td>NaN</td>\n",
       "      <td>NaN</td>\n",
       "      <td>NaN</td>\n",
       "      <td>NaN</td>\n",
       "      <td>NaN</td>\n",
       "      <td>NaN</td>\n",
       "      <td>NaN</td>\n",
       "      <td>NaN</td>\n",
       "      <td>NaN</td>\n",
       "      <td>NaN</td>\n",
       "      <td>NaN</td>\n",
       "      <td>Normal</td>\n",
       "      <td>NaN</td>\n",
       "      <td>Normal</td>\n",
       "    </tr>\n",
       "    <tr>\n",
       "      <th>5</th>\n",
       "      <td>Survey invitation: New survey on CCS Customer ...</td>\n",
       "      <td>You have been invited to take the survey: CCS ...</td>\n",
       "      <td>IT Support</td>\n",
       "      <td>/O=UTTYLER ORGANIZATION/OU=EXCHANGE ADMINISTRA...</td>\n",
       "      <td>EX</td>\n",
       "      <td>Ashim Sedhain</td>\n",
       "      <td>/o=UTTyler Organization/ou=Exchange Administra...</td>\n",
       "      <td>EX</td>\n",
       "      <td>NaN</td>\n",
       "      <td>NaN</td>\n",
       "      <td>NaN</td>\n",
       "      <td>NaN</td>\n",
       "      <td>NaN</td>\n",
       "      <td>NaN</td>\n",
       "      <td>NaN</td>\n",
       "      <td>NaN</td>\n",
       "      <td>Normal</td>\n",
       "      <td>NaN</td>\n",
       "      <td>Normal</td>\n",
       "    </tr>\n",
       "  </tbody>\n",
       "</table>\n",
       "</div>"
      ],
      "text/plain": [
       "                                             Subject  \\\n",
       "1                          Preview of the May Agenda   \n",
       "2  CEP Dean Candidate Campus Wide Presentation/Go...   \n",
       "3  CEP Dean Candidate Campus Wide Presentation/Ro...   \n",
       "4     University Appreciation Week - A Few Reminders   \n",
       "5  Survey invitation: New survey on CCS Customer ...   \n",
       "\n",
       "                                                Body    From: (Name)  \\\n",
       "1  Good morning! We would like to invite you to o...  Lynette Sutter   \n",
       "2  Please use the link below to access the Zoom r...      Beth Bruce   \n",
       "3  Please use the link below to access the Zoom r...      Beth Bruce   \n",
       "4  Hello everyone!\\r\\n\\r\\n \\r\\n\\r\\nPlease see the...            usac   \n",
       "5  You have been invited to take the survey: CCS ...      IT Support   \n",
       "\n",
       "                                     From: (Address) From: (Type)  \\\n",
       "1  /O=UTTYLER ORGANIZATION/OU=EXCHANGE ADMINISTRA...           EX   \n",
       "2  /O=UTTYLER ORGANIZATION/OU=EXCHANGE ADMINISTRA...           EX   \n",
       "3  /O=UTTYLER ORGANIZATION/OU=EXCHANGE ADMINISTRA...           EX   \n",
       "4  /O=UTTYLER ORGANIZATION/OU=EXCHANGE ADMINISTRA...           EX   \n",
       "5  /O=UTTYLER ORGANIZATION/OU=EXCHANGE ADMINISTRA...           EX   \n",
       "\n",
       "      To: (Name)                                      To: (Address)  \\\n",
       "1            NaN                                                NaN   \n",
       "2            NaN                                                NaN   \n",
       "3            NaN                                                NaN   \n",
       "4            NaN                                                NaN   \n",
       "5  Ashim Sedhain  /o=UTTyler Organization/ou=Exchange Administra...   \n",
       "\n",
       "  To: (Type) CC: (Name) CC: (Address) CC: (Type)  BCC: (Name)  BCC: (Address)  \\\n",
       "1        NaN        NaN           NaN        NaN          NaN             NaN   \n",
       "2        NaN        NaN           NaN        NaN          NaN             NaN   \n",
       "3        NaN        NaN           NaN        NaN          NaN             NaN   \n",
       "4        NaN        NaN           NaN        NaN          NaN             NaN   \n",
       "5         EX        NaN           NaN        NaN          NaN             NaN   \n",
       "\n",
       "   BCC: (Type)  Billing Information  Categories Importance  Mileage  \\\n",
       "1          NaN                  NaN         NaN     Normal      NaN   \n",
       "2          NaN                  NaN         NaN     Normal      NaN   \n",
       "3          NaN                  NaN         NaN     Normal      NaN   \n",
       "4          NaN                  NaN         NaN     Normal      NaN   \n",
       "5          NaN                  NaN         NaN     Normal      NaN   \n",
       "\n",
       "  Sensitivity  \n",
       "1      Normal  \n",
       "2      Normal  \n",
       "3      Normal  \n",
       "4      Normal  \n",
       "5      Normal  "
      ]
     },
     "execution_count": 3,
     "metadata": {},
     "output_type": "execute_result"
    }
   ],
   "source": [
    "email_df.iloc[1:6]"
   ]
  },
  {
   "cell_type": "markdown",
   "metadata": {},
   "source": [
    "We can see all the data we received from the CSV file. Only the short description and additional comments will be avaible for us in the production and as such, we will only be using those for our project. We will drop all the columns that do not content relevent information. So, we will only keep the \"Subject\" and \"Body\" column."
   ]
  },
  {
   "cell_type": "markdown",
   "metadata": {},
   "source": [
    "#### Dropping columns all the columns besides the \"Subject\", and \"Body\"."
   ]
  },
  {
   "cell_type": "code",
   "execution_count": 4,
   "metadata": {},
   "outputs": [],
   "source": [
    "email_df = email_df[[\"Subject\", \"Body\"]]"
   ]
  },
  {
   "cell_type": "markdown",
   "metadata": {},
   "source": [
    "#### Getting another look at the data now"
   ]
  },
  {
   "cell_type": "code",
   "execution_count": 5,
   "metadata": {},
   "outputs": [
    {
     "data": {
      "text/html": [
       "<div>\n",
       "<style scoped>\n",
       "    .dataframe tbody tr th:only-of-type {\n",
       "        vertical-align: middle;\n",
       "    }\n",
       "\n",
       "    .dataframe tbody tr th {\n",
       "        vertical-align: top;\n",
       "    }\n",
       "\n",
       "    .dataframe thead th {\n",
       "        text-align: right;\n",
       "    }\n",
       "</style>\n",
       "<table border=\"1\" class=\"dataframe\">\n",
       "  <thead>\n",
       "    <tr style=\"text-align: right;\">\n",
       "      <th></th>\n",
       "      <th>Subject</th>\n",
       "      <th>Body</th>\n",
       "    </tr>\n",
       "  </thead>\n",
       "  <tbody>\n",
       "    <tr>\n",
       "      <th>0</th>\n",
       "      <td>Your incident INC0121272 has been closed</td>\n",
       "      <td>Your incident INC0121272 has been closed. If y...</td>\n",
       "    </tr>\n",
       "    <tr>\n",
       "      <th>1</th>\n",
       "      <td>Preview of the May Agenda</td>\n",
       "      <td>Good morning! We would like to invite you to o...</td>\n",
       "    </tr>\n",
       "    <tr>\n",
       "      <th>2</th>\n",
       "      <td>CEP Dean Candidate Campus Wide Presentation/Go...</td>\n",
       "      <td>Please use the link below to access the Zoom r...</td>\n",
       "    </tr>\n",
       "    <tr>\n",
       "      <th>3</th>\n",
       "      <td>CEP Dean Candidate Campus Wide Presentation/Ro...</td>\n",
       "      <td>Please use the link below to access the Zoom r...</td>\n",
       "    </tr>\n",
       "    <tr>\n",
       "      <th>4</th>\n",
       "      <td>University Appreciation Week - A Few Reminders</td>\n",
       "      <td>Hello everyone!\\r\\n\\r\\n \\r\\n\\r\\nPlease see the...</td>\n",
       "    </tr>\n",
       "  </tbody>\n",
       "</table>\n",
       "</div>"
      ],
      "text/plain": [
       "                                             Subject  \\\n",
       "0           Your incident INC0121272 has been closed   \n",
       "1                          Preview of the May Agenda   \n",
       "2  CEP Dean Candidate Campus Wide Presentation/Go...   \n",
       "3  CEP Dean Candidate Campus Wide Presentation/Ro...   \n",
       "4     University Appreciation Week - A Few Reminders   \n",
       "\n",
       "                                                Body  \n",
       "0  Your incident INC0121272 has been closed. If y...  \n",
       "1  Good morning! We would like to invite you to o...  \n",
       "2  Please use the link below to access the Zoom r...  \n",
       "3  Please use the link below to access the Zoom r...  \n",
       "4  Hello everyone!\\r\\n\\r\\n \\r\\n\\r\\nPlease see the...  "
      ]
     },
     "execution_count": 5,
     "metadata": {},
     "output_type": "execute_result"
    }
   ],
   "source": [
    "email_df.head()"
   ]
  },
  {
   "cell_type": "markdown",
   "metadata": {},
   "source": [
    "We can see the subject and body are filled with unneeded information and are quite messy. The contain \\r and \\n characters left from the email that were originally exported. We will need to get rid of those as they won't be helpful in the final classification process. Furthermore, we will also need to remove numbers, email addresses and other privative information as well, as we do not want to associate any classification with private details."
   ]
  },
  {
   "cell_type": "markdown",
   "metadata": {},
   "source": [
    "# Data Cleaning"
   ]
  },
  {
   "cell_type": "markdown",
   "metadata": {},
   "source": [
    "#### Getting a closer look at the Body column"
   ]
  },
  {
   "cell_type": "code",
   "execution_count": 6,
   "metadata": {},
   "outputs": [
    {
     "data": {
      "text/plain": [
       "'You have been invited to take the survey: CCS Customer Satisfaction Survey. \\r\\n \\r\\nClick here to take your survey:\\r\\nhttps://uttyler.service-now.com/nav_to.do?uri=assessment_take2.do%3Fsysparm_assessable_type=4a9b211f2b0af10081807fb5a8da15d4%26sysparm_assessable_sysid=1afc56f5db5d73c8879ac3d239961920\\r\\n \\r\\nTo view your survey queue at any time, sign in and navigate to Self-Service > My Assessments & Surveys.\\r\\n \\r\\nRef:MSG1817995\\r\\n'"
      ]
     },
     "execution_count": 6,
     "metadata": {},
     "output_type": "execute_result"
    }
   ],
   "source": [
    "email_df.iloc[5, 1]"
   ]
  },
  {
   "cell_type": "markdown",
   "metadata": {},
   "source": [
    "As mentioned above, the body needs to be cleaned and parsed.\n",
    "\n",
    "First, we will extract the category from the body text. This is the final outcome of our model. These emails have been manually categorized and we will be using these for our classification training and testing data.\n",
    "\n",
    "Next, we will extract the short description and additional comments from the body text. These will be the field used to predict the final outcome."
   ]
  },
  {
   "cell_type": "markdown",
   "metadata": {},
   "source": [
    "#### Extracting the category from the Body text"
   ]
  },
  {
   "cell_type": "code",
   "execution_count": 7,
   "metadata": {},
   "outputs": [],
   "source": [
    "email_df[\"Category\"]= email_df[\"Body\"].str.extract(r\"Category: (\\w+ ?\\w+)\\r\")"
   ]
  },
  {
   "cell_type": "markdown",
   "metadata": {},
   "source": [
    "#### Extracting Short Descriptions from the Body"
   ]
  },
  {
   "cell_type": "code",
   "execution_count": 8,
   "metadata": {},
   "outputs": [],
   "source": [
    "email_df[\"Short Description\"] = email_df[\"Body\"].str.extract(r\"Short Description: (.+)\\r\")"
   ]
  },
  {
   "cell_type": "markdown",
   "metadata": {},
   "source": [
    "#### Extracting Additional comments from the Body text"
   ]
  },
  {
   "cell_type": "code",
   "execution_count": 9,
   "metadata": {},
   "outputs": [],
   "source": [
    "email_df[\"Additional Comments\"] = email_df[\"Body\"].str.extract(r\"Additional comments\\r\\nreceived from:(.+)Ref\", flags = re.DOTALL)"
   ]
  },
  {
   "cell_type": "markdown",
   "metadata": {},
   "source": [
    "#### Removing all the rows that do not have a Category and Short Description as these are emails that did not contain ticket related information"
   ]
  },
  {
   "cell_type": "code",
   "execution_count": 10,
   "metadata": {},
   "outputs": [],
   "source": [
    "email_df.dropna(subset = [\"Category\", \"Short Description\"], inplace = True)"
   ]
  },
  {
   "cell_type": "markdown",
   "metadata": {},
   "source": [
    "#### We will look at the shape to count the number of observation."
   ]
  },
  {
   "cell_type": "code",
   "execution_count": 11,
   "metadata": {},
   "outputs": [
    {
     "data": {
      "text/plain": [
       "(5829, 5)"
      ]
     },
     "execution_count": 11,
     "metadata": {},
     "output_type": "execute_result"
    }
   ],
   "source": [
    "email_df.shape"
   ]
  },
  {
   "cell_type": "markdown",
   "metadata": {},
   "source": [
    "#### We will look at the our dataframe."
   ]
  },
  {
   "cell_type": "code",
   "execution_count": 12,
   "metadata": {},
   "outputs": [
    {
     "data": {
      "text/html": [
       "<div>\n",
       "<style scoped>\n",
       "    .dataframe tbody tr th:only-of-type {\n",
       "        vertical-align: middle;\n",
       "    }\n",
       "\n",
       "    .dataframe tbody tr th {\n",
       "        vertical-align: top;\n",
       "    }\n",
       "\n",
       "    .dataframe thead th {\n",
       "        text-align: right;\n",
       "    }\n",
       "</style>\n",
       "<table border=\"1\" class=\"dataframe\">\n",
       "  <thead>\n",
       "    <tr style=\"text-align: right;\">\n",
       "      <th></th>\n",
       "      <th>Subject</th>\n",
       "      <th>Body</th>\n",
       "      <th>Category</th>\n",
       "      <th>Short Description</th>\n",
       "      <th>Additional Comments</th>\n",
       "    </tr>\n",
       "  </thead>\n",
       "  <tbody>\n",
       "    <tr>\n",
       "      <th>6</th>\n",
       "      <td>Your incident INC0121272 has been resolved due...</td>\n",
       "      <td>Due to no customer response your incident INC0...</td>\n",
       "      <td>Account</td>\n",
       "      <td>Ashim Sedhain - credential pick up</td>\n",
       "      <td>NaN</td>\n",
       "    </tr>\n",
       "  </tbody>\n",
       "</table>\n",
       "</div>"
      ],
      "text/plain": [
       "                                             Subject  \\\n",
       "6  Your incident INC0121272 has been resolved due...   \n",
       "\n",
       "                                                Body Category  \\\n",
       "6  Due to no customer response your incident INC0...  Account   \n",
       "\n",
       "                    Short Description Additional Comments  \n",
       "6  Ashim Sedhain - credential pick up                 NaN  "
      ]
     },
     "execution_count": 12,
     "metadata": {},
     "output_type": "execute_result"
    }
   ],
   "source": [
    "email_df.head(1)"
   ]
  },
  {
   "cell_type": "markdown",
   "metadata": {},
   "source": [
    "#### We will need to drop emails not containing the phrase \"We have moved your support ticket\" as these are the only ones that have been categorized manually"
   ]
  },
  {
   "cell_type": "code",
   "execution_count": 13,
   "metadata": {},
   "outputs": [],
   "source": [
    "filt = email_df[\"Body\"].str.contains(\"We have moved your support ticket\")\n",
    "email_df.drop(email_df.loc[~filt].index, inplace = True)"
   ]
  },
  {
   "cell_type": "markdown",
   "metadata": {},
   "source": [
    "#### A side note: There are dublicate tickets which will not be present in the final production and thus need to be removed from our sample"
   ]
  },
  {
   "cell_type": "markdown",
   "metadata": {},
   "source": [
    "#### Extracting the incident number"
   ]
  },
  {
   "cell_type": "code",
   "execution_count": 14,
   "metadata": {},
   "outputs": [],
   "source": [
    "email_df[\"Incident Number\"] = email_df[\"Subject\"].str.extract(r\"INC(\\d+) \")"
   ]
  },
  {
   "cell_type": "markdown",
   "metadata": {},
   "source": [
    "#### We will only keep the short description and additional comments as this will only be the available data for us in production."
   ]
  },
  {
   "cell_type": "code",
   "execution_count": 15,
   "metadata": {},
   "outputs": [],
   "source": [
    "email_df.drop([\"Subject\", \"Body\"], axis = 1, inplace = True)"
   ]
  },
  {
   "cell_type": "code",
   "execution_count": 16,
   "metadata": {},
   "outputs": [
    {
     "data": {
      "text/html": [
       "<div>\n",
       "<style scoped>\n",
       "    .dataframe tbody tr th:only-of-type {\n",
       "        vertical-align: middle;\n",
       "    }\n",
       "\n",
       "    .dataframe tbody tr th {\n",
       "        vertical-align: top;\n",
       "    }\n",
       "\n",
       "    .dataframe thead th {\n",
       "        text-align: right;\n",
       "    }\n",
       "</style>\n",
       "<table border=\"1\" class=\"dataframe\">\n",
       "  <thead>\n",
       "    <tr style=\"text-align: right;\">\n",
       "      <th></th>\n",
       "      <th>Category</th>\n",
       "      <th>Short Description</th>\n",
       "      <th>Additional Comments</th>\n",
       "      <th>Incident Number</th>\n",
       "    </tr>\n",
       "  </thead>\n",
       "  <tbody>\n",
       "    <tr>\n",
       "      <th>41</th>\n",
       "      <td>Hardware</td>\n",
       "      <td>Engineering office moves</td>\n",
       "      <td>KatrinaSmith@uttyler.edu\\r\\n \\r\\nMichael,  \\r...</td>\n",
       "      <td>0122904</td>\n",
       "    </tr>\n",
       "    <tr>\n",
       "      <th>42</th>\n",
       "      <td>Quotes</td>\n",
       "      <td>EVGA UV Plus - Multi-Screen expansion</td>\n",
       "      <td>rpeterson@uttyler.edu\\r\\n \\r\\nBefore I purcha...</td>\n",
       "      <td>0122638</td>\n",
       "    </tr>\n",
       "    <tr>\n",
       "      <th>44</th>\n",
       "      <td>Hardware</td>\n",
       "      <td>Printers</td>\n",
       "      <td>sbouis@uttyler.edu\\r\\n \\r\\nPlease help us dis...</td>\n",
       "      <td>0122888</td>\n",
       "    </tr>\n",
       "    <tr>\n",
       "      <th>46</th>\n",
       "      <td>Account</td>\n",
       "      <td>Access to previous compliance folders</td>\n",
       "      <td>NaN</td>\n",
       "      <td>0122872</td>\n",
       "    </tr>\n",
       "    <tr>\n",
       "      <th>47</th>\n",
       "      <td>Software</td>\n",
       "      <td>Adobe Flash Player installation</td>\n",
       "      <td>TArtley@uttyler.edu\\r\\n \\r\\nGood Afternoon, \\...</td>\n",
       "      <td>0122883</td>\n",
       "    </tr>\n",
       "  </tbody>\n",
       "</table>\n",
       "</div>"
      ],
      "text/plain": [
       "    Category                      Short Description  \\\n",
       "41  Hardware               Engineering office moves   \n",
       "42    Quotes  EVGA UV Plus - Multi-Screen expansion   \n",
       "44  Hardware                              Printers    \n",
       "46   Account  Access to previous compliance folders   \n",
       "47  Software        Adobe Flash Player installation   \n",
       "\n",
       "                                  Additional Comments Incident Number  \n",
       "41   KatrinaSmith@uttyler.edu\\r\\n \\r\\nMichael,  \\r...         0122904  \n",
       "42   rpeterson@uttyler.edu\\r\\n \\r\\nBefore I purcha...         0122638  \n",
       "44   sbouis@uttyler.edu\\r\\n \\r\\nPlease help us dis...         0122888  \n",
       "46                                                NaN         0122872  \n",
       "47   TArtley@uttyler.edu\\r\\n \\r\\nGood Afternoon, \\...         0122883  "
      ]
     },
     "execution_count": 16,
     "metadata": {},
     "output_type": "execute_result"
    }
   ],
   "source": [
    "email_df.head()"
   ]
  },
  {
   "cell_type": "markdown",
   "metadata": {},
   "source": [
    "#### A closer look at additional comments"
   ]
  },
  {
   "cell_type": "code",
   "execution_count": 17,
   "metadata": {},
   "outputs": [
    {
     "data": {
      "text/plain": [
       "' TArtley@uttyler.edu\\r\\n \\r\\nGood Afternoon, \\r\\n \\r\\nI need to have adobe flash player downloaded for firefox and when I try to do it the installation never starts. \\r\\n \\r\\nThanks,\\r\\n \\r\\nTyler Artley\\r\\nAssistant Director of Intramurals & Club Sports\\r\\n \\r\\n[http://www.uttyler.edu/]\\r\\n \\r\\nRecreational Sports\\r\\n3900 University Blvd.  ?  Tyler, Texas 75799\\r\\noffice  903.565.5571 \\r\\ntartley@uttyler.edu \\r\\n \\r\\nYour Success. Our Passion.\\r\\n \\r\\n'"
      ]
     },
     "execution_count": 17,
     "metadata": {},
     "output_type": "execute_result"
    }
   ],
   "source": [
    "email_df[\"Additional Comments\"].iloc[4]"
   ]
  },
  {
   "cell_type": "markdown",
   "metadata": {},
   "source": [
    "#### We can see that the Additional Comments needs to be further cleaned."
   ]
  },
  {
   "cell_type": "markdown",
   "metadata": {},
   "source": [
    "#### We will replace all the new line characters and numbers"
   ]
  },
  {
   "cell_type": "code",
   "execution_count": 18,
   "metadata": {},
   "outputs": [],
   "source": [
    "email_df[\"Additional Comments mod\"] = email_df[\"Additional Comments\"].str.replace(r\"\\r|\\n|\\d\", \"\", regex = True)"
   ]
  },
  {
   "cell_type": "code",
   "execution_count": 19,
   "metadata": {},
   "outputs": [],
   "source": [
    "email_df[\"Additional Comments mod\"] = email_df[\"Additional Comments mod\"].str.replace(r\"\\w+@(\\w+\\.)+(edu)|(com)\", \"\")"
   ]
  },
  {
   "cell_type": "markdown",
   "metadata": {},
   "source": [
    "#### We will do the same for the short description"
   ]
  },
  {
   "cell_type": "code",
   "execution_count": 20,
   "metadata": {},
   "outputs": [],
   "source": [
    "email_df[\"Short Description\"] = email_df[\"Short Description\"].str.replace(r\"\\r|\\n|\\d\", \"\", regex = True)"
   ]
  },
  {
   "cell_type": "code",
   "execution_count": 21,
   "metadata": {},
   "outputs": [],
   "source": [
    "email_df[\"Short Description\"] = email_df[\"Short Description\"].str.replace(r\"\\w+@(\\w+\\.)+(edu)|(com)\", \"\")"
   ]
  },
  {
   "cell_type": "markdown",
   "metadata": {},
   "source": [
    "#### We will concatenate the Short Description and Additional Comments field to get the Feature which will be used for the final classification."
   ]
  },
  {
   "cell_type": "code",
   "execution_count": 22,
   "metadata": {},
   "outputs": [],
   "source": [
    "email_df[\"Feature\"] = email_df[\"Short Description\"].str.cat(email_df[\"Additional Comments mod\"], sep = ' ')"
   ]
  },
  {
   "cell_type": "code",
   "execution_count": 23,
   "metadata": {},
   "outputs": [],
   "source": [
    "email_df[\"Feature\"].fillna(value = email_df[\"Short Description\"], inplace = True)"
   ]
  },
  {
   "cell_type": "markdown",
   "metadata": {},
   "source": [
    "## Exploratory Data Analysis"
   ]
  },
  {
   "cell_type": "markdown",
   "metadata": {},
   "source": [
    "####  Lets look at the historgram of the lables"
   ]
  },
  {
   "cell_type": "code",
   "execution_count": 24,
   "metadata": {},
   "outputs": [
    {
     "data": {
      "image/png": "[encoded data removed]",
      "text/plain": [
       "<Figure size 432x288 with 1 Axes>"
      ]
     },
     "metadata": {
      "needs_background": "light"
     },
     "output_type": "display_data"
    }
   ],
   "source": [
    "ax = sns.countplot(\"Category\", data = email_df)\n",
    "ax = ax.set_xticklabels(ax.get_xticklabels(),rotation=90)"
   ]
  },
  {
   "cell_type": "markdown",
   "metadata": {},
   "source": [
    "#### Seeing the ratio of each class"
   ]
  },
  {
   "cell_type": "code",
   "execution_count": 25,
   "metadata": {},
   "outputs": [
    {
     "data": {
      "text/plain": [
       "Software                2274\n",
       "Hardware                 586\n",
       "Quotes                   173\n",
       "Account                  167\n",
       "Classroom Technology     141\n",
       "Questions                  4\n",
       "None                       3\n",
       "Delete                     2\n",
       "Name: Category, dtype: int64"
      ]
     },
     "execution_count": 25,
     "metadata": {},
     "output_type": "execute_result"
    }
   ],
   "source": [
    "email_df[\"Category\"].value_counts()#*100/email_df[\"Category\"].size"
   ]
  },
  {
   "cell_type": "markdown",
   "metadata": {},
   "source": [
    "#### Let us look at the indivisual data points of the category with less than 4 samples"
   ]
  },
  {
   "cell_type": "code",
   "execution_count": 26,
   "metadata": {},
   "outputs": [],
   "source": [
    "gp = email_df.groupby(\"Category\")"
   ]
  },
  {
   "cell_type": "code",
   "execution_count": 27,
   "metadata": {},
   "outputs": [
    {
     "data": {
      "text/html": [
       "<div>\n",
       "<style scoped>\n",
       "    .dataframe tbody tr th:only-of-type {\n",
       "        vertical-align: middle;\n",
       "    }\n",
       "\n",
       "    .dataframe tbody tr th {\n",
       "        vertical-align: top;\n",
       "    }\n",
       "\n",
       "    .dataframe thead th {\n",
       "        text-align: right;\n",
       "    }\n",
       "</style>\n",
       "<table border=\"1\" class=\"dataframe\">\n",
       "  <thead>\n",
       "    <tr style=\"text-align: right;\">\n",
       "      <th></th>\n",
       "      <th>Category</th>\n",
       "      <th>Short Description</th>\n",
       "      <th>Additional Comments</th>\n",
       "      <th>Incident Number</th>\n",
       "      <th>Additional Comments mod</th>\n",
       "      <th>Feature</th>\n",
       "    </tr>\n",
       "  </thead>\n",
       "  <tbody>\n",
       "    <tr>\n",
       "      <th>1476</th>\n",
       "      <td>Questions</td>\n",
       "      <td>Jooble partnership outlook.uttyler.edu</td>\n",
       "      <td>rma@jooble.jobs\\r\\n \\r\\nHello,\\r\\n \\r\\nHope y...</td>\n",
       "      <td>0127614</td>\n",
       "      <td>rma@jooble.jobs Hello, Hope you are doing wel...</td>\n",
       "      <td>Jooble partnership outlook.uttyler.edu  rma@jo...</td>\n",
       "    </tr>\n",
       "    <tr>\n",
       "      <th>1594</th>\n",
       "      <td>Questions</td>\n",
       "      <td>Verification of student email on various apps</td>\n",
       "      <td>DRoman@patriots.uttyler.edu\\r\\n \\r\\nDear IT,\\...</td>\n",
       "      <td>0127977</td>\n",
       "      <td>Dear IT, My name is David Elias Roman. My st...</td>\n",
       "      <td>Verification of student email on various apps ...</td>\n",
       "    </tr>\n",
       "    <tr>\n",
       "      <th>2801</th>\n",
       "      <td>Questions</td>\n",
       "      <td>Student Computers in Room</td>\n",
       "      <td>mizard@uttyler.edu\\r\\n \\r\\nCan you tell me if...</td>\n",
       "      <td>0133291</td>\n",
       "      <td>Can you tell me if the student puters have S...</td>\n",
       "      <td>Student Computers in Room    Can you tell me i...</td>\n",
       "    </tr>\n",
       "    <tr>\n",
       "      <th>3760</th>\n",
       "      <td>Questions</td>\n",
       "      <td>Read, Write and Goal</td>\n",
       "      <td>AshleyDavis@uttyler.edu\\r\\n \\r\\nGood afternoo...</td>\n",
       "      <td>0135744</td>\n",
       "      <td>Good afternoon IT, The SAR office is purchas...</td>\n",
       "      <td>Read, Write and Goal   Good afternoon IT, The ...</td>\n",
       "    </tr>\n",
       "  </tbody>\n",
       "</table>\n",
       "</div>"
      ],
      "text/plain": [
       "       Category                               Short Description  \\\n",
       "1476  Questions          Jooble partnership outlook.uttyler.edu   \n",
       "1594  Questions  Verification of student email on various apps    \n",
       "2801  Questions                      Student Computers in Room    \n",
       "3760  Questions                            Read, Write and Goal   \n",
       "\n",
       "                                    Additional Comments Incident Number  \\\n",
       "1476   rma@jooble.jobs\\r\\n \\r\\nHello,\\r\\n \\r\\nHope y...         0127614   \n",
       "1594   DRoman@patriots.uttyler.edu\\r\\n \\r\\nDear IT,\\...         0127977   \n",
       "2801   mizard@uttyler.edu\\r\\n \\r\\nCan you tell me if...         0133291   \n",
       "3760   AshleyDavis@uttyler.edu\\r\\n \\r\\nGood afternoo...         0135744   \n",
       "\n",
       "                                Additional Comments mod  \\\n",
       "1476   rma@jooble.jobs Hello, Hope you are doing wel...   \n",
       "1594    Dear IT, My name is David Elias Roman. My st...   \n",
       "2801    Can you tell me if the student puters have S...   \n",
       "3760    Good afternoon IT, The SAR office is purchas...   \n",
       "\n",
       "                                                Feature  \n",
       "1476  Jooble partnership outlook.uttyler.edu  rma@jo...  \n",
       "1594  Verification of student email on various apps ...  \n",
       "2801  Student Computers in Room    Can you tell me i...  \n",
       "3760  Read, Write and Goal   Good afternoon IT, The ...  "
      ]
     },
     "execution_count": 27,
     "metadata": {},
     "output_type": "execute_result"
    }
   ],
   "source": [
    "gp.get_group(\"Questions\")"
   ]
  },
  {
   "cell_type": "code",
   "execution_count": 28,
   "metadata": {},
   "outputs": [
    {
     "data": {
      "text/html": [
       "<div>\n",
       "<style scoped>\n",
       "    .dataframe tbody tr th:only-of-type {\n",
       "        vertical-align: middle;\n",
       "    }\n",
       "\n",
       "    .dataframe tbody tr th {\n",
       "        vertical-align: top;\n",
       "    }\n",
       "\n",
       "    .dataframe thead th {\n",
       "        text-align: right;\n",
       "    }\n",
       "</style>\n",
       "<table border=\"1\" class=\"dataframe\">\n",
       "  <thead>\n",
       "    <tr style=\"text-align: right;\">\n",
       "      <th></th>\n",
       "      <th>Category</th>\n",
       "      <th>Short Description</th>\n",
       "      <th>Additional Comments</th>\n",
       "      <th>Incident Number</th>\n",
       "      <th>Additional Comments mod</th>\n",
       "      <th>Feature</th>\n",
       "    </tr>\n",
       "  </thead>\n",
       "  <tbody>\n",
       "    <tr>\n",
       "      <th>1902</th>\n",
       "      <td>Delete</td>\n",
       "      <td>DELETE</td>\n",
       "      <td>fjones@uttyler.edu\\r\\n \\r\\nTHIS EMAIL IS FOR ...</td>\n",
       "      <td>0129221</td>\n",
       "      <td>THIS EMAIL IS FOR THOSE WHO ARE INVOLVED IN ...</td>\n",
       "      <td>DELETE   THIS EMAIL IS FOR THOSE WHO ARE INVOL...</td>\n",
       "    </tr>\n",
       "    <tr>\n",
       "      <th>3214</th>\n",
       "      <td>Delete</td>\n",
       "      <td>DELETE</td>\n",
       "      <td>adennis@uttyler.edu\\r\\n \\r\\nAvery Ritzma rece...</td>\n",
       "      <td>0134266</td>\n",
       "      <td>Avery Ritzma received the puter .  When she ...</td>\n",
       "      <td>DELETE   Avery Ritzma received the puter .  Wh...</td>\n",
       "    </tr>\n",
       "  </tbody>\n",
       "</table>\n",
       "</div>"
      ],
      "text/plain": [
       "     Category Short Description  \\\n",
       "1902   Delete            DELETE   \n",
       "3214   Delete            DELETE   \n",
       "\n",
       "                                    Additional Comments Incident Number  \\\n",
       "1902   fjones@uttyler.edu\\r\\n \\r\\nTHIS EMAIL IS FOR ...         0129221   \n",
       "3214   adennis@uttyler.edu\\r\\n \\r\\nAvery Ritzma rece...         0134266   \n",
       "\n",
       "                                Additional Comments mod  \\\n",
       "1902    THIS EMAIL IS FOR THOSE WHO ARE INVOLVED IN ...   \n",
       "3214    Avery Ritzma received the puter .  When she ...   \n",
       "\n",
       "                                                Feature  \n",
       "1902  DELETE   THIS EMAIL IS FOR THOSE WHO ARE INVOL...  \n",
       "3214  DELETE   Avery Ritzma received the puter .  Wh...  "
      ]
     },
     "execution_count": 28,
     "metadata": {},
     "output_type": "execute_result"
    }
   ],
   "source": [
    "gp.get_group(\"Delete\")"
   ]
  },
  {
   "cell_type": "code",
   "execution_count": 29,
   "metadata": {},
   "outputs": [
    {
     "data": {
      "text/html": [
       "<div>\n",
       "<style scoped>\n",
       "    .dataframe tbody tr th:only-of-type {\n",
       "        vertical-align: middle;\n",
       "    }\n",
       "\n",
       "    .dataframe tbody tr th {\n",
       "        vertical-align: top;\n",
       "    }\n",
       "\n",
       "    .dataframe thead th {\n",
       "        text-align: right;\n",
       "    }\n",
       "</style>\n",
       "<table border=\"1\" class=\"dataframe\">\n",
       "  <thead>\n",
       "    <tr style=\"text-align: right;\">\n",
       "      <th></th>\n",
       "      <th>Category</th>\n",
       "      <th>Short Description</th>\n",
       "      <th>Additional Comments</th>\n",
       "      <th>Incident Number</th>\n",
       "      <th>Additional Comments mod</th>\n",
       "      <th>Feature</th>\n",
       "    </tr>\n",
       "  </thead>\n",
       "  <tbody>\n",
       "    <tr>\n",
       "      <th>743</th>\n",
       "      <td>None</td>\n",
       "      <td>Dakota-Request to borrow a monitor temporarily</td>\n",
       "      <td>NaN</td>\n",
       "      <td>0125169</td>\n",
       "      <td>NaN</td>\n",
       "      <td>Dakota-Request to borrow a monitor temporarily</td>\n",
       "    </tr>\n",
       "    <tr>\n",
       "      <th>1706</th>\n",
       "      <td>None</td>\n",
       "      <td>Ready for Delivery | Surface Pros for Mathemat...</td>\n",
       "      <td>NaN</td>\n",
       "      <td>0128505</td>\n",
       "      <td>NaN</td>\n",
       "      <td>Ready for Delivery | Surface Pros for Mathemat...</td>\n",
       "    </tr>\n",
       "    <tr>\n",
       "      <th>6350</th>\n",
       "      <td>None</td>\n",
       "      <td>email issues</td>\n",
       "      <td>NaN</td>\n",
       "      <td>0141279</td>\n",
       "      <td>NaN</td>\n",
       "      <td>email issues</td>\n",
       "    </tr>\n",
       "  </tbody>\n",
       "</table>\n",
       "</div>"
      ],
      "text/plain": [
       "     Category                                  Short Description  \\\n",
       "743      None     Dakota-Request to borrow a monitor temporarily   \n",
       "1706     None  Ready for Delivery | Surface Pros for Mathemat...   \n",
       "6350     None                                       email issues   \n",
       "\n",
       "     Additional Comments Incident Number Additional Comments mod  \\\n",
       "743                  NaN         0125169                     NaN   \n",
       "1706                 NaN         0128505                     NaN   \n",
       "6350                 NaN         0141279                     NaN   \n",
       "\n",
       "                                                Feature  \n",
       "743      Dakota-Request to borrow a monitor temporarily  \n",
       "1706  Ready for Delivery | Surface Pros for Mathemat...  \n",
       "6350                                       email issues  "
      ]
     },
     "execution_count": 29,
     "metadata": {},
     "output_type": "execute_result"
    }
   ],
   "source": [
    "gp.get_group(\"None\")"
   ]
  },
  {
   "cell_type": "markdown",
   "metadata": {},
   "source": [
    "We can see that the data is heavily imbalanced. This will not favor well for our classification. Categories like \"Question\", \"None\", and \"Delete\" have less than 5 data points. We won't be able to gather any meaning information from so little data points.\n",
    "\n",
    "As such, we will be removing them entirely and then focus on creating a manual rule for categorizing them later in production."
   ]
  },
  {
   "cell_type": "markdown",
   "metadata": {},
   "source": [
    "#### Removing the categories with less than five data points"
   ]
  },
  {
   "cell_type": "code",
   "execution_count": 30,
   "metadata": {},
   "outputs": [],
   "source": [
    "remove = [\"Questions\", \"Delete\", \"None\"]"
   ]
  },
  {
   "cell_type": "code",
   "execution_count": 31,
   "metadata": {},
   "outputs": [],
   "source": [
    "for i in remove:\n",
    "    email_df = email_df.loc[email_df[\"Category\"]!=i]"
   ]
  },
  {
   "cell_type": "markdown",
   "metadata": {},
   "source": [
    "#### Lets look at the length of all the tickets and see if we can use that as a feature."
   ]
  },
  {
   "cell_type": "code",
   "execution_count": 32,
   "metadata": {},
   "outputs": [],
   "source": [
    "email_df[\"Feature Length\"] = email_df[\"Feature\"].str.len()"
   ]
  },
  {
   "cell_type": "code",
   "execution_count": 33,
   "metadata": {},
   "outputs": [
    {
     "data": {
      "text/html": [
       "<div>\n",
       "<style scoped>\n",
       "    .dataframe tbody tr th:only-of-type {\n",
       "        vertical-align: middle;\n",
       "    }\n",
       "\n",
       "    .dataframe tbody tr th {\n",
       "        vertical-align: top;\n",
       "    }\n",
       "\n",
       "    .dataframe thead th {\n",
       "        text-align: right;\n",
       "    }\n",
       "</style>\n",
       "<table border=\"1\" class=\"dataframe\">\n",
       "  <thead>\n",
       "    <tr style=\"text-align: right;\">\n",
       "      <th></th>\n",
       "      <th>Feature Length</th>\n",
       "    </tr>\n",
       "    <tr>\n",
       "      <th>Category</th>\n",
       "      <th></th>\n",
       "    </tr>\n",
       "  </thead>\n",
       "  <tbody>\n",
       "    <tr>\n",
       "      <th>Account</th>\n",
       "      <td>292.125749</td>\n",
       "    </tr>\n",
       "    <tr>\n",
       "      <th>Classroom Technology</th>\n",
       "      <td>440.425532</td>\n",
       "    </tr>\n",
       "    <tr>\n",
       "      <th>Hardware</th>\n",
       "      <td>342.158703</td>\n",
       "    </tr>\n",
       "    <tr>\n",
       "      <th>Quotes</th>\n",
       "      <td>797.011561</td>\n",
       "    </tr>\n",
       "    <tr>\n",
       "      <th>Software</th>\n",
       "      <td>493.954705</td>\n",
       "    </tr>\n",
       "  </tbody>\n",
       "</table>\n",
       "</div>"
      ],
      "text/plain": [
       "                      Feature Length\n",
       "Category                            \n",
       "Account                   292.125749\n",
       "Classroom Technology      440.425532\n",
       "Hardware                  342.158703\n",
       "Quotes                    797.011561\n",
       "Software                  493.954705"
      ]
     },
     "execution_count": 33,
     "metadata": {},
     "output_type": "execute_result"
    }
   ],
   "source": [
    "gk = email_df.groupby(\"Category\")\n",
    "gk.mean()"
   ]
  },
  {
   "cell_type": "code",
   "execution_count": 34,
   "metadata": {},
   "outputs": [
    {
     "data": {
      "image/png": "[encoded data removed]",
      "text/plain": [
       "<Figure size 432x288 with 1 Axes>"
      ]
     },
     "metadata": {
      "needs_background": "light"
     },
     "output_type": "display_data"
    }
   ],
   "source": [
    "ax = sns.barplot(x = \"Category\", y = \"Feature Length\", data = email_df)\n",
    "ax.tick_params(labelrotation=90)"
   ]
  },
  {
   "cell_type": "markdown",
   "metadata": {},
   "source": [
    "#### We used length as a feature but there was not any significant results."
   ]
  },
  {
   "cell_type": "markdown",
   "metadata": {},
   "source": [
    "## Modeling"
   ]
  },
  {
   "cell_type": "markdown",
   "metadata": {},
   "source": [
    "#### Converting the classes into numerical representation"
   ]
  },
  {
   "cell_type": "code",
   "execution_count": 35,
   "metadata": {},
   "outputs": [],
   "source": [
    "dic = {i:j for i, j in zip(email_df[\"Category\"].unique(), range(len(email_df[\"Category\"].unique())))}"
   ]
  },
  {
   "cell_type": "code",
   "execution_count": 36,
   "metadata": {},
   "outputs": [],
   "source": [
    "num_to_cat_dic = dict([(value, key) for key, value in dic.items()])"
   ]
  },
  {
   "cell_type": "code",
   "execution_count": 37,
   "metadata": {},
   "outputs": [],
   "source": [
    "email_df[\"Targets\"] = email_df[\"Category\"].map(dic)"
   ]
  },
  {
   "cell_type": "markdown",
   "metadata": {},
   "source": [
    "#### Looking at our data and seeing where we are."
   ]
  },
  {
   "cell_type": "code",
   "execution_count": 38,
   "metadata": {},
   "outputs": [
    {
     "data": {
      "text/html": [
       "<div>\n",
       "<style scoped>\n",
       "    .dataframe tbody tr th:only-of-type {\n",
       "        vertical-align: middle;\n",
       "    }\n",
       "\n",
       "    .dataframe tbody tr th {\n",
       "        vertical-align: top;\n",
       "    }\n",
       "\n",
       "    .dataframe thead th {\n",
       "        text-align: right;\n",
       "    }\n",
       "</style>\n",
       "<table border=\"1\" class=\"dataframe\">\n",
       "  <thead>\n",
       "    <tr style=\"text-align: right;\">\n",
       "      <th></th>\n",
       "      <th>Feature</th>\n",
       "      <th>Category</th>\n",
       "      <th>Targets</th>\n",
       "    </tr>\n",
       "  </thead>\n",
       "  <tbody>\n",
       "    <tr>\n",
       "      <th>41</th>\n",
       "      <td>Engineering office moves   Michael,   WE have ...</td>\n",
       "      <td>Hardware</td>\n",
       "      <td>0</td>\n",
       "    </tr>\n",
       "    <tr>\n",
       "      <th>42</th>\n",
       "      <td>EVGA UV Plus - Multi-Screen expansion   Before...</td>\n",
       "      <td>Quotes</td>\n",
       "      <td>1</td>\n",
       "    </tr>\n",
       "    <tr>\n",
       "      <th>44</th>\n",
       "      <td>Printers    Please help us disconnect all desk...</td>\n",
       "      <td>Hardware</td>\n",
       "      <td>0</td>\n",
       "    </tr>\n",
       "    <tr>\n",
       "      <th>46</th>\n",
       "      <td>Access to previous pliance folders</td>\n",
       "      <td>Account</td>\n",
       "      <td>2</td>\n",
       "    </tr>\n",
       "    <tr>\n",
       "      <th>47</th>\n",
       "      <td>Adobe Flash Player installation   Good Afterno...</td>\n",
       "      <td>Software</td>\n",
       "      <td>3</td>\n",
       "    </tr>\n",
       "  </tbody>\n",
       "</table>\n",
       "</div>"
      ],
      "text/plain": [
       "                                              Feature  Category  Targets\n",
       "41  Engineering office moves   Michael,   WE have ...  Hardware        0\n",
       "42  EVGA UV Plus - Multi-Screen expansion   Before...    Quotes        1\n",
       "44  Printers    Please help us disconnect all desk...  Hardware        0\n",
       "46                 Access to previous pliance folders   Account        2\n",
       "47  Adobe Flash Player installation   Good Afterno...  Software        3"
      ]
     },
     "execution_count": 38,
     "metadata": {},
     "output_type": "execute_result"
    }
   ],
   "source": [
    "email_df[[\"Feature\", \"Category\",\"Targets\"]].head()"
   ]
  },
  {
   "cell_type": "markdown",
   "metadata": {},
   "source": [
    "#### We will only be using the Feature column for our classification."
   ]
  },
  {
   "cell_type": "code",
   "execution_count": 39,
   "metadata": {},
   "outputs": [],
   "source": [
    "X = email_df[\"Feature\"]\n",
    "y = email_df[\"Targets\"]"
   ]
  },
  {
   "cell_type": "code",
   "execution_count": 40,
   "metadata": {},
   "outputs": [
    {
     "data": {
      "text/plain": [
       "'PCs for RBN    Hello, Can we please get a quote for the puter items mentioned below? Thanks, Kristin Kristin Stephens, M.A. Administrative Assistant II Department of Electrical Engineering  University Boulevard \\x96 Tyler, Texas  Office ..  [mailto:] Your Success. Our Passion. From: Hassan El-Kishky Sent: Friday, May ,  : AMTo: Kristin Stephens <>Cc: Premananda Indic <>Subject: PCs for RBN  Kristin, Please request a quote for  PCs +  monitors to replace the very old PCs in RBN .  Thanks, h '"
      ]
     },
     "execution_count": 40,
     "metadata": {},
     "output_type": "execute_result"
    }
   ],
   "source": [
    "X.iloc[20]"
   ]
  },
  {
   "cell_type": "markdown",
   "metadata": {},
   "source": [
    "#### Spliting the data for training and testing"
   ]
  },
  {
   "cell_type": "code",
   "execution_count": 41,
   "metadata": {},
   "outputs": [],
   "source": [
    "x_train, x_test, y_train, y_test = train_test_split(X, y, random_state = 0)"
   ]
  },
  {
   "cell_type": "code",
   "execution_count": 42,
   "metadata": {},
   "outputs": [
    {
     "data": {
      "text/plain": [
       "884     Quote Request   Can you please get me a quote ...\n",
       "6700                                         keyboard lag\n",
       "2685    Office puter Canvas connetion issue   Hi, My o...\n",
       "1877     Laptops need to be cleaned and given to stora...\n",
       "2202    Software setup after update   After my update ...\n",
       "Name: Feature, dtype: object"
      ]
     },
     "execution_count": 42,
     "metadata": {},
     "output_type": "execute_result"
    }
   ],
   "source": [
    "x_train.head()"
   ]
  },
  {
   "cell_type": "markdown",
   "metadata": {},
   "source": [
    "#### Fitting the CountVectorizer to the training data"
   ]
  },
  {
   "cell_type": "code",
   "execution_count": 43,
   "metadata": {},
   "outputs": [],
   "source": [
    "vect = TfidfVectorizer(min_df=0.003,max_df=0.5,  max_features=None, \n",
    "            strip_accents='unicode', analyzer='word',token_pattern=r'\\w{1,}',\n",
    "            ngram_range=(1, 3), use_idf=1,smooth_idf=1,sublinear_tf=1,\n",
    "            stop_words = 'english')"
   ]
  },
  {
   "cell_type": "code",
   "execution_count": 44,
   "metadata": {},
   "outputs": [],
   "source": [
    "vect = vect.fit(x_train)"
   ]
  },
  {
   "cell_type": "markdown",
   "metadata": {},
   "source": [
    "#### We can see how many features we have."
   ]
  },
  {
   "cell_type": "code",
   "execution_count": 45,
   "metadata": {},
   "outputs": [
    {
     "data": {
      "text/plain": [
       "3563"
      ]
     },
     "execution_count": 45,
     "metadata": {},
     "output_type": "execute_result"
    }
   ],
   "source": [
    "len(vect.get_feature_names())"
   ]
  },
  {
   "cell_type": "markdown",
   "metadata": {},
   "source": [
    "#### Transforming our training data into a sparse matrix"
   ]
  },
  {
   "cell_type": "code",
   "execution_count": 46,
   "metadata": {},
   "outputs": [],
   "source": [
    "x_train_vec = vect.transform(x_train)"
   ]
  },
  {
   "cell_type": "code",
   "execution_count": 47,
   "metadata": {},
   "outputs": [
    {
     "data": {
      "text/plain": [
       "<2505x3563 sparse matrix of type '<class 'numpy.float64'>'\n",
       "\twith 107712 stored elements in Compressed Sparse Row format>"
      ]
     },
     "execution_count": 47,
     "metadata": {},
     "output_type": "execute_result"
    }
   ],
   "source": [
    "x_train_vec"
   ]
  },
  {
   "cell_type": "code",
   "execution_count": 48,
   "metadata": {},
   "outputs": [
    {
     "data": {
      "text/plain": [
       "(2505, 3563)"
      ]
     },
     "execution_count": 48,
     "metadata": {},
     "output_type": "execute_result"
    }
   ],
   "source": [
    "x_train_vec.shape"
   ]
  },
  {
   "cell_type": "markdown",
   "metadata": {},
   "source": [
    "## Classification"
   ]
  },
  {
   "cell_type": "markdown",
   "metadata": {},
   "source": [
    "#### We will create multiple models and compare there performance."
   ]
  },
  {
   "cell_type": "markdown",
   "metadata": {},
   "source": [
    "#### Supervised Learning"
   ]
  },
  {
   "cell_type": "code",
   "execution_count": 49,
   "metadata": {},
   "outputs": [],
   "source": [
    "logistic_clf = LogisticRegression(multi_class = \"multinomial\", solver = \"lbfgs\", random_state = 0, max_iter = 10000, C = 0.1)"
   ]
  },
  {
   "cell_type": "code",
   "execution_count": 50,
   "metadata": {},
   "outputs": [],
   "source": [
    "naive_clf = MultinomialNB(alpha=0.1)"
   ]
  },
  {
   "cell_type": "code",
   "execution_count": 51,
   "metadata": {},
   "outputs": [],
   "source": [
    "svm_clf = svm.SVC(gamma = 1, random_state = 0, kernel = \"linear\", max_iter = 10000)"
   ]
  },
  {
   "cell_type": "code",
   "execution_count": 52,
   "metadata": {},
   "outputs": [],
   "source": [
    "knn_clf = KNeighborsClassifier(n_neighbors=30)"
   ]
  },
  {
   "cell_type": "code",
   "execution_count": 53,
   "metadata": {},
   "outputs": [],
   "source": [
    "rf_clf = RandomForestClassifier(n_estimators=40, max_depth=6,random_state=0)"
   ]
  },
  {
   "cell_type": "code",
   "execution_count": 54,
   "metadata": {},
   "outputs": [],
   "source": [
    "gb_clf = GradientBoostingClassifier(n_estimators = 25, max_depth = 5, random_state = 0)"
   ]
  },
  {
   "cell_type": "code",
   "execution_count": 55,
   "metadata": {},
   "outputs": [],
   "source": [
    "clf = [logistic_clf, naive_clf, svm_clf, knn_clf, rf_clf, gb_clf]\n",
    "\n",
    "clf_dic = [\"Logistic\", \"Naive\", \"SVM\", \"KNN\", \"RandomForest\", \"GradientBoosting\"]"
   ]
  },
  {
   "cell_type": "code",
   "execution_count": 56,
   "metadata": {},
   "outputs": [
    {
     "name": "stdout",
     "output_type": "stream",
     "text": [
      "......"
     ]
    }
   ],
   "source": [
    "for i in clf:\n",
    "    i.fit(x_train_vec, y_train)\n",
    "    print(\".\", end = \"\")"
   ]
  },
  {
   "cell_type": "markdown",
   "metadata": {},
   "source": [
    "#### Looking at the f1 score of each classifier"
   ]
  },
  {
   "cell_type": "code",
   "execution_count": 57,
   "metadata": {},
   "outputs": [
    {
     "name": "stdout",
     "output_type": "stream",
     "text": [
      "Logistic accuracy: 0.7081339712918661\n",
      "Naive accuracy: 0.7248803827751196\n",
      "SVM accuracy: 0.7930622009569378\n",
      "KNN accuracy: 0.6949760765550239\n",
      "RandomForest accuracy: 0.6949760765550239\n",
      "GradientBoosting accuracy: 0.7691387559808612\n"
     ]
    }
   ],
   "source": [
    "x_test_vec = vect.transform(x_test)\n",
    "for i,j in zip(clf_dic, clf):\n",
    "#     print(f\"{i} f1: {f1_score(j.predict(x_test_vec), y_test, average = 'weighted')}\")\n",
    "#     print(f\"{i}: {precision_score(j.predict(x_test_vec), y_test, average = 'micro')}\")\n",
    "    print(f\"{i} accuracy: {j.score(x_test_vec, y_test)}\")"
   ]
  },
  {
   "cell_type": "markdown",
   "metadata": {},
   "source": [
    "#### We will look at the top features from each of the classifiers"
   ]
  },
  {
   "cell_type": "code",
   "execution_count": 58,
   "metadata": {},
   "outputs": [],
   "source": [
    "def show_top10(classifier, vectorizer, categories):\n",
    "    feature_names = np.asarray(vectorizer.get_feature_names())\n",
    "    for i, category in enumerate(categories):\n",
    "        top10 = np.argsort(classifier.coef_[i])[-10:]\n",
    "        top10 =np.where(top10==feature_names.shape[0], feature_names.shape[0]-1, top10)\n",
    "#         print(feature_names.shape[0])\n",
    "        print(\"%s: %s\" % (category, \" \".join(feature_names[top10])))"
   ]
  },
  {
   "cell_type": "code",
   "execution_count": 59,
   "metadata": {},
   "outputs": [
    {
     "name": "stdout",
     "output_type": "stream",
     "text": [
      "Hardware: connected copier monitor uc scanner printers print monitors disposal printer\n",
      "Quotes: texas po dell gb need quote pro hp order purchase quote\n",
      "Account: pick disabled log password pw issue reset employee change account\n",
      "Software: windows shared login install imagenow drive image software outlook access\n",
      "Classroom Technology: audio equipment smart board room sound classroom working projector working projector\n"
     ]
    }
   ],
   "source": [
    "show_top10(logistic_clf, vect, email_df[\"Category\"].unique())"
   ]
  },
  {
   "cell_type": "code",
   "execution_count": 60,
   "metadata": {},
   "outputs": [
    {
     "name": "stdout",
     "output_type": "stream",
     "text": [
      "Hardware: uttyler working new texas tyler university need office puter printer\n",
      "Quotes: hp need office pro texas order university tyler purchase quote\n",
      "Account: access email log password pw reset employee issue change account\n",
      "Software: texas uttyler edu edu need office uttyler university tyler puter access\n",
      "Classroom Technology: cas smart board rbn room sound classroom projector working working projector\n"
     ]
    }
   ],
   "source": [
    "show_top10(naive_clf, vect, email_df[\"Category\"].unique())"
   ]
  },
  {
   "cell_type": "markdown",
   "metadata": {},
   "source": [
    "### We will ensemble the classifiers and see if that improves the results"
   ]
  },
  {
   "cell_type": "code",
   "execution_count": 61,
   "metadata": {},
   "outputs": [],
   "source": [
    "clf = [naive_clf, svm_clf, knn_clf, gb_clf]\n",
    "\n",
    "clf_dic = [\"Naive\", \"SVM\", \"KNN\", \"GradientBoosting\"]"
   ]
  },
  {
   "cell_type": "code",
   "execution_count": 62,
   "metadata": {},
   "outputs": [],
   "source": [
    "estimators = list(zip(clf_dic, clf))"
   ]
  },
  {
   "cell_type": "code",
   "execution_count": 63,
   "metadata": {},
   "outputs": [],
   "source": [
    "ensemble_clf = VotingClassifier(estimators, voting=\"hard\")"
   ]
  },
  {
   "cell_type": "code",
   "execution_count": 65,
   "metadata": {},
   "outputs": [
    {
     "data": {
      "text/plain": [
       "VotingClassifier(estimators=[('Naive', MultinomialNB(alpha=0.1, class_prior=None, fit_prior=True)), ('SVM', SVC(C=1.0, cache_size=200, class_weight=None, coef0=0.0,\n",
       "  decision_function_shape='ovr', degree=3, gamma=1, kernel='linear',\n",
       "  max_iter=10000, probability=False, random_state=0, shrinking=True,\n",
       "  tol=0.001, v...    subsample=1.0, tol=0.0001, validation_fraction=0.1,\n",
       "              verbose=0, warm_start=False))],\n",
       "         flatten_transform=None, n_jobs=None, voting='hard', weights=None)"
      ]
     },
     "execution_count": 65,
     "metadata": {},
     "output_type": "execute_result"
    }
   ],
   "source": [
    "ensemble_clf.fit(x_train_vec, y_train)"
   ]
  },
  {
   "cell_type": "code",
   "execution_count": 66,
   "metadata": {},
   "outputs": [
    {
     "data": {
      "text/plain": [
       "0.7822966507177034"
      ]
     },
     "execution_count": 66,
     "metadata": {},
     "output_type": "execute_result"
    }
   ],
   "source": [
    "ensemble_clf.score(x_test_vec, y_test)"
   ]
  },
  {
   "cell_type": "code",
   "execution_count": null,
   "metadata": {},
   "outputs": [],
   "source": []
  },
  {
   "cell_type": "markdown",
   "metadata": {},
   "source": [
    "### We got an improvement of ~0.5"
   ]
  },
  {
   "cell_type": "markdown",
   "metadata": {},
   "source": [
    "### Function that takes in a short description and additional comment to predict the category"
   ]
  },
  {
   "cell_type": "code",
   "execution_count": 69,
   "metadata": {},
   "outputs": [],
   "source": [
    "def predict(short_description, additional_comments = \"\"):\n",
    "    k = f\"{short_description} {additional_comments}\"\n",
    "    k = pd.Series([k])\n",
    "    k = vect.transform(k)\n",
    "    k = ensemble_clf.predict(k)\n",
    "    k = num_to_cat_dic[k[0]]\n",
    "    print(k)"
   ]
  },
  {
   "cell_type": "code",
   "execution_count": 70,
   "metadata": {},
   "outputs": [
    {
     "name": "stdout",
     "output_type": "stream",
     "text": [
      "Classroom Technology\n"
     ]
    }
   ],
   "source": [
    "predict(\"Projector in HRP is not working\")"
   ]
  },
  {
   "cell_type": "code",
   "execution_count": 71,
   "metadata": {},
   "outputs": [
    {
     "name": "stdout",
     "output_type": "stream",
     "text": [
      "Software\n"
     ]
    }
   ],
   "source": [
    "predict(\"Error with One Drive\")"
   ]
  },
  {
   "cell_type": "code",
   "execution_count": 72,
   "metadata": {},
   "outputs": [
    {
     "name": "stdout",
     "output_type": "stream",
     "text": [
      "Hardware\n"
     ]
    }
   ],
   "source": [
    "predict(\"Connect my computer to department copier/printer\", \"I would like to be able to printer to the new Music department copier/printer in FAC 2215\")"
   ]
  },
  {
   "cell_type": "code",
   "execution_count": 73,
   "metadata": {},
   "outputs": [
    {
     "name": "stdout",
     "output_type": "stream",
     "text": [
      "Software\n"
     ]
    }
   ],
   "source": [
    "predict(\"spam in email\")"
   ]
  },
  {
   "cell_type": "code",
   "execution_count": 74,
   "metadata": {},
   "outputs": [
    {
     "name": "stdout",
     "output_type": "stream",
     "text": [
      "Quotes\n"
     ]
    }
   ],
   "source": [
    "predict(\"purchase a computer\", \"Hello I would like to purchase a dell computer\")"
   ]
  },
  {
   "cell_type": "markdown",
   "metadata": {},
   "source": [
    "# Further Improvements"
   ]
  },
  {
   "cell_type": "markdown",
   "metadata": {},
   "source": [
    "### We will now optimize the models. We will use countvectorizer and Tfidf for vectorizing, then proceed with a gridsearch on logistic regression, naivebayes, KNN, SVM, and gradientboosting random forest."
   ]
  },
  {
   "cell_type": "code",
   "execution_count": 76,
   "metadata": {},
   "outputs": [],
   "source": [
    "tfidf_vect = TfidfVectorizer(min_df=0.003,max_df=0.5,  max_features=None, \n",
    "            strip_accents='unicode', analyzer='word',token_pattern=r'\\w{1,}',\n",
    "            ngram_range=(1, 3), use_idf=1,smooth_idf=1,sublinear_tf=1,\n",
    "            stop_words = 'english')\n",
    "\n",
    "\n",
    "count_vect = CountVectorizer(analyzer='word',token_pattern=r'\\w{1,}',\n",
    "            ngram_range=(1, 3), stop_words = 'english')\n",
    "\n",
    "logistic_clf = LogisticRegression(random_state = 0, max_iter = 10000)\n",
    "naive_clf = MultinomialNB()\n",
    "svm_clf = svm.SVC(random_state = 0,max_iter = 10000, gamma = \"scale\")\n",
    "knn_clf = KNeighborsClassifier()\n",
    "gb_clf = GradientBoostingClassifier(random_state = 0)"
   ]
  },
  {
   "cell_type": "code",
   "execution_count": 77,
   "metadata": {},
   "outputs": [],
   "source": [
    "vect_array = [tfidf_vect, count_vect]\n",
    "clf_array = [logistic_clf,naive_clf, svm_clf, knn_clf, gb_clf]"
   ]
  },
  {
   "cell_type": "code",
   "execution_count": 78,
   "metadata": {},
   "outputs": [],
   "source": [
    "clf_dict = {0: \"tfidf_logistic\", 1:\"count_logistic\", 2:\"tfidf_naive\", 3:\"count_naive\", 4:\"tfidf_svm\", 5:\"count_svm\", 6:\"tfidf_knn\", 7:\"count_knn\", 8:\"tfidf_gb\", 9:\"count_gb\"}"
   ]
  },
  {
   "cell_type": "code",
   "execution_count": 79,
   "metadata": {},
   "outputs": [],
   "source": [
    "pipe_array = []\n",
    "for i in clf_array:\n",
    "    for j in vect_array:\n",
    "        pipe_array.append(Pipeline([(\"vect\", j), (\"clf\", i)]))"
   ]
  },
  {
   "cell_type": "code",
   "execution_count": 80,
   "metadata": {},
   "outputs": [],
   "source": [
    "grid_param_logistic = [{\"clf__C\": np.logspace(-3, 0, 4), \"clf__solver\": [\"saga\", \"lbfgs\"], \"clf__multi_class\": [\"auto\", \"multinomial\"]}]\n",
    "grid_param_naive = [{\"clf__alpha\": np.logspace(-3, 2, 6)}]\n",
    "grid_param_knn = [{\"clf__n_neighbors\": np.arange(10, 45, 5)}]\n",
    "grid_param_gb = [{\"clf__n_estimators\": np.arange(10, 45, 5), \"clf__max_depth\": np.arange(2, 15, 2), \"clf__learning_rate\": np.logspace(-2, 0, 3)}]\n",
    "grid_param_svm =[{\"clf__C\": np.logspace(-4, 0, 5), \"clf__kernel\": [\"linear\", \"poly\", \"rbf\", \"sigmoid\"]}]\n",
    "\n",
    "grid_param_array = [grid_param_logistic, grid_param_naive, grid_param_svm, grid_param_knn, grid_param_gb]"
   ]
  },
  {
   "cell_type": "code",
   "execution_count": 81,
   "metadata": {},
   "outputs": [],
   "source": [
    "jobs = -1\n",
    "gs_array = []\n",
    "for i in range(len(pipe_array)):\n",
    "    gs_array.append(GridSearchCV(estimator = pipe_array[i], param_grid = grid_param_array[int(i/2)], scoring = \"accuracy\", cv = 5))"
   ]
  },
  {
   "cell_type": "code",
   "execution_count": 123,
   "metadata": {
    "scrolled": false
   },
   "outputs": [
    {
     "name": "stdout",
     "output_type": "stream",
     "text": [
      "\n",
      "Estimator: tfidf_logistic\n",
      "Best params: {'clf__C': 1.0, 'clf__multi_class': 'auto', 'clf__solver': 'saga'}\n",
      "Best training accuracy: 0.7484444444444445\n",
      "Test set accuracy score for best params: 0.776 \n",
      "\n",
      "Estimator: count_logistic\n",
      "Best params: {'clf__C': 1.0, 'clf__multi_class': 'auto', 'clf__solver': 'saga'}\n",
      "Best training accuracy: 0.7813333333333333\n",
      "Test set accuracy score for best params: 0.7906666666666666 \n",
      "\n",
      "Estimator: tfidf_naive\n",
      "Best params: {'clf__alpha': 0.1}\n",
      "Best training accuracy: 0.7173333333333334\n",
      "Test set accuracy score for best params: 0.7426666666666667 \n",
      "\n",
      "Estimator: count_naive\n",
      "Best params: {'clf__alpha': 1.0}\n",
      "Best training accuracy: 0.7457777777777778\n",
      "Test set accuracy score for best params: 0.7453333333333333 \n",
      "\n",
      "Estimator: tfidf_svm\n",
      "Best params: {'clf__C': 1.0, 'clf__kernel': 'linear'}\n",
      "Best training accuracy: 0.7826666666666666\n",
      "Test set accuracy score for best params: 0.7946666666666666 \n",
      "\n",
      "Estimator: count_svm\n",
      "Best params: {'clf__C': 0.1, 'clf__kernel': 'linear'}\n",
      "Best training accuracy: 0.7768888888888889\n",
      "Test set accuracy score for best params: 0.7746666666666666 \n"
     ]
    }
   ],
   "source": [
    "for i, gs in enumerate(gs_array):\n",
    "    if(i>5):\n",
    "        break;\n",
    "    print(f\"\\nEstimator: {clf_dict[i]}\")\n",
    "#     gs.fit(x_train, y_train)\n",
    "    print(f\"Best params: {gs.best_params_}\")\n",
    "    print(f'Best training accuracy: {gs.best_score_}')\n",
    "    print(f'Test set accuracy score for best params: {gs.score(x_test, y_test)} ')"
   ]
  },
  {
   "cell_type": "code",
   "execution_count": 82,
   "metadata": {},
   "outputs": [],
   "source": [
    "clf_list = []\n",
    "for i in range(6):\n",
    "    clf_list.append((clf_dict[i], gs_array[i]))"
   ]
  },
  {
   "cell_type": "code",
   "execution_count": 83,
   "metadata": {},
   "outputs": [],
   "source": [
    "ensemble_clf = VotingClassifier(clf_list, voting=\"hard\", n_jobs = -1)"
   ]
  },
  {
   "cell_type": "code",
   "execution_count": 84,
   "metadata": {},
   "outputs": [
    {
     "data": {
      "text/plain": [
       "VotingClassifier(estimators=[('tfidf_logistic', GridSearchCV(cv=5, error_score='raise-deprecating',\n",
       "       estimator=Pipeline(memory=None,\n",
       "     steps=[('vect', TfidfVectorizer(analyzer='word', binary=False, decode_error='strict',\n",
       "        dtype=<class 'numpy.float64'>, encoding='utf-8', input='content',\n",
       "        lower..._dispatch='2*n_jobs', refit=True, return_train_score='warn',\n",
       "       scoring='accuracy', verbose=0))],\n",
       "         flatten_transform=None, n_jobs=-1, voting='hard', weights=None)"
      ]
     },
     "execution_count": 84,
     "metadata": {},
     "output_type": "execute_result"
    }
   ],
   "source": [
    "ensemble_clf.fit(x_train, y_train)"
   ]
  },
  {
   "cell_type": "code",
   "execution_count": 85,
   "metadata": {},
   "outputs": [
    {
     "data": {
      "text/plain": [
       "0.7933333333333333"
      ]
     },
     "execution_count": 85,
     "metadata": {},
     "output_type": "execute_result"
    }
   ],
   "source": [
    "ensemble_clf.score(x_test, y_test)"
   ]
  }
 ],
 "metadata": {
  "kernelspec": {
   "display_name": "Python 3",
   "language": "python",
   "name": "python3"
  },
  "language_info": {
   "codemirror_mode": {
    "name": "ipython",
    "version": 3
   },
   "file_extension": ".py",
   "mimetype": "text/x-python",
   "name": "python",
   "nbconvert_exporter": "python",
   "pygments_lexer": "ipython3",
   "version": "3.7.2"
  }
 },
 "nbformat": 4,
 "nbformat_minor": 2
}
