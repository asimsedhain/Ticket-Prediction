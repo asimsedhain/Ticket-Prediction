{
 "cells": [
  {
   "cell_type": "markdown",
   "metadata": {},
   "source": [
    "# Predicting Category of an incident based on the information provided by the customer"
   ]
  },
  {
   "cell_type": "markdown",
   "metadata": {},
   "source": [
    "### In this notebook, I am testing out to see if a basic classifier can do the job of classifying incidents reported to the campus computing department of UT Tyler "
   ]
  },
  {
   "cell_type": "markdown",
   "metadata": {},
   "source": [
    "#### Importing all the needed libraries"
   ]
  },
  {
   "cell_type": "code",
   "execution_count": 20,
   "metadata": {},
   "outputs": [],
   "source": [
    "import pandas as pd\n",
    "import seaborn as sns\n",
    "import numpy as np\n",
    "import sklearn\n",
    "import re\n",
    "from sklearn.feature_extraction.text import CountVectorizer\n",
    "from sklearn.model_selection import train_test_split\n",
    "from sklearn.linear_model import LogisticRegression\n",
    "from sklearn.metrics import f1_score\n",
    "from sklearn.naive_bayes import MultinomialNB\n",
    "from sklearn import svm\n",
    "from sklearn.ensemble import RandomForestClassifier\n",
    "from sklearn.ensemble import GradientBoostingClassifier\n",
    "from sklearn.neighbors import KNeighborsClassifier\n",
    "from sklearn.feature_extraction.text import TfidfVectorizer"
   ]
  },
  {
   "cell_type": "markdown",
   "metadata": {},
   "source": [
    "#### Importing the data that is in cvs format"
   ]
  },
  {
   "cell_type": "code",
   "execution_count": 21,
   "metadata": {},
   "outputs": [],
   "source": [
    "email_df = pd.read_csv(\"emails.csv\", encoding='latin1')"
   ]
  },
  {
   "cell_type": "markdown",
   "metadata": {},
   "source": [
    "#### Looking at the data"
   ]
  },
  {
   "cell_type": "code",
   "execution_count": 22,
   "metadata": {},
   "outputs": [
    {
     "data": {
      "text/html": [
       "<div>\n",
       "<style scoped>\n",
       "    .dataframe tbody tr th:only-of-type {\n",
       "        vertical-align: middle;\n",
       "    }\n",
       "\n",
       "    .dataframe tbody tr th {\n",
       "        vertical-align: top;\n",
       "    }\n",
       "\n",
       "    .dataframe thead th {\n",
       "        text-align: right;\n",
       "    }\n",
       "</style>\n",
       "<table border=\"1\" class=\"dataframe\">\n",
       "  <thead>\n",
       "    <tr style=\"text-align: right;\">\n",
       "      <th></th>\n",
       "      <th>Subject</th>\n",
       "      <th>Body</th>\n",
       "      <th>From: (Name)</th>\n",
       "      <th>From: (Address)</th>\n",
       "      <th>From: (Type)</th>\n",
       "      <th>To: (Name)</th>\n",
       "      <th>To: (Address)</th>\n",
       "      <th>To: (Type)</th>\n",
       "      <th>CC: (Name)</th>\n",
       "      <th>CC: (Address)</th>\n",
       "      <th>CC: (Type)</th>\n",
       "      <th>BCC: (Name)</th>\n",
       "      <th>BCC: (Address)</th>\n",
       "      <th>BCC: (Type)</th>\n",
       "      <th>Billing Information</th>\n",
       "      <th>Categories</th>\n",
       "      <th>Importance</th>\n",
       "      <th>Mileage</th>\n",
       "      <th>Sensitivity</th>\n",
       "    </tr>\n",
       "  </thead>\n",
       "  <tbody>\n",
       "    <tr>\n",
       "      <th>0</th>\n",
       "      <td>Your incident INC0121272 has been closed</td>\n",
       "      <td>Your incident INC0121272 has been closed. If y...</td>\n",
       "      <td>IT Support</td>\n",
       "      <td>/O=UTTYLER ORGANIZATION/OU=EXCHANGE ADMINISTRA...</td>\n",
       "      <td>EX</td>\n",
       "      <td>Ashim Sedhain</td>\n",
       "      <td>/o=UTTyler Organization/ou=Exchange Administra...</td>\n",
       "      <td>EX</td>\n",
       "      <td>NaN</td>\n",
       "      <td>NaN</td>\n",
       "      <td>NaN</td>\n",
       "      <td>NaN</td>\n",
       "      <td>NaN</td>\n",
       "      <td>NaN</td>\n",
       "      <td>NaN</td>\n",
       "      <td>NaN</td>\n",
       "      <td>Normal</td>\n",
       "      <td>NaN</td>\n",
       "      <td>Normal</td>\n",
       "    </tr>\n",
       "    <tr>\n",
       "      <th>1</th>\n",
       "      <td>Preview of the May Agenda</td>\n",
       "      <td>Good morning! We would like to invite you to o...</td>\n",
       "      <td>Lynette Sutter</td>\n",
       "      <td>/O=UTTYLER ORGANIZATION/OU=EXCHANGE ADMINISTRA...</td>\n",
       "      <td>EX</td>\n",
       "      <td>NaN</td>\n",
       "      <td>NaN</td>\n",
       "      <td>NaN</td>\n",
       "      <td>NaN</td>\n",
       "      <td>NaN</td>\n",
       "      <td>NaN</td>\n",
       "      <td>NaN</td>\n",
       "      <td>NaN</td>\n",
       "      <td>NaN</td>\n",
       "      <td>NaN</td>\n",
       "      <td>NaN</td>\n",
       "      <td>Normal</td>\n",
       "      <td>NaN</td>\n",
       "      <td>Normal</td>\n",
       "    </tr>\n",
       "    <tr>\n",
       "      <th>2</th>\n",
       "      <td>CEP Dean Candidate Campus Wide Presentation/Go...</td>\n",
       "      <td>Please use the link below to access the Zoom r...</td>\n",
       "      <td>Beth Bruce</td>\n",
       "      <td>/O=UTTYLER ORGANIZATION/OU=EXCHANGE ADMINISTRA...</td>\n",
       "      <td>EX</td>\n",
       "      <td>NaN</td>\n",
       "      <td>NaN</td>\n",
       "      <td>NaN</td>\n",
       "      <td>NaN</td>\n",
       "      <td>NaN</td>\n",
       "      <td>NaN</td>\n",
       "      <td>NaN</td>\n",
       "      <td>NaN</td>\n",
       "      <td>NaN</td>\n",
       "      <td>NaN</td>\n",
       "      <td>NaN</td>\n",
       "      <td>Normal</td>\n",
       "      <td>NaN</td>\n",
       "      <td>Normal</td>\n",
       "    </tr>\n",
       "    <tr>\n",
       "      <th>3</th>\n",
       "      <td>CEP Dean Candidate Campus Wide Presentation/Ro...</td>\n",
       "      <td>Please use the link below to access the Zoom r...</td>\n",
       "      <td>Beth Bruce</td>\n",
       "      <td>/O=UTTYLER ORGANIZATION/OU=EXCHANGE ADMINISTRA...</td>\n",
       "      <td>EX</td>\n",
       "      <td>NaN</td>\n",
       "      <td>NaN</td>\n",
       "      <td>NaN</td>\n",
       "      <td>NaN</td>\n",
       "      <td>NaN</td>\n",
       "      <td>NaN</td>\n",
       "      <td>NaN</td>\n",
       "      <td>NaN</td>\n",
       "      <td>NaN</td>\n",
       "      <td>NaN</td>\n",
       "      <td>NaN</td>\n",
       "      <td>Normal</td>\n",
       "      <td>NaN</td>\n",
       "      <td>Normal</td>\n",
       "    </tr>\n",
       "    <tr>\n",
       "      <th>4</th>\n",
       "      <td>University Appreciation Week - A Few Reminders</td>\n",
       "      <td>Hello everyone!\\r\\n\\r\\n \\r\\n\\r\\nPlease see the...</td>\n",
       "      <td>usac</td>\n",
       "      <td>/O=UTTYLER ORGANIZATION/OU=EXCHANGE ADMINISTRA...</td>\n",
       "      <td>EX</td>\n",
       "      <td>NaN</td>\n",
       "      <td>NaN</td>\n",
       "      <td>NaN</td>\n",
       "      <td>NaN</td>\n",
       "      <td>NaN</td>\n",
       "      <td>NaN</td>\n",
       "      <td>NaN</td>\n",
       "      <td>NaN</td>\n",
       "      <td>NaN</td>\n",
       "      <td>NaN</td>\n",
       "      <td>NaN</td>\n",
       "      <td>Normal</td>\n",
       "      <td>NaN</td>\n",
       "      <td>Normal</td>\n",
       "    </tr>\n",
       "  </tbody>\n",
       "</table>\n",
       "</div>"
      ],
      "text/plain": [
       "                                             Subject  \\\n",
       "0           Your incident INC0121272 has been closed   \n",
       "1                          Preview of the May Agenda   \n",
       "2  CEP Dean Candidate Campus Wide Presentation/Go...   \n",
       "3  CEP Dean Candidate Campus Wide Presentation/Ro...   \n",
       "4     University Appreciation Week - A Few Reminders   \n",
       "\n",
       "                                                Body    From: (Name)  \\\n",
       "0  Your incident INC0121272 has been closed. If y...      IT Support   \n",
       "1  Good morning! We would like to invite you to o...  Lynette Sutter   \n",
       "2  Please use the link below to access the Zoom r...      Beth Bruce   \n",
       "3  Please use the link below to access the Zoom r...      Beth Bruce   \n",
       "4  Hello everyone!\\r\\n\\r\\n \\r\\n\\r\\nPlease see the...            usac   \n",
       "\n",
       "                                     From: (Address) From: (Type)  \\\n",
       "0  /O=UTTYLER ORGANIZATION/OU=EXCHANGE ADMINISTRA...           EX   \n",
       "1  /O=UTTYLER ORGANIZATION/OU=EXCHANGE ADMINISTRA...           EX   \n",
       "2  /O=UTTYLER ORGANIZATION/OU=EXCHANGE ADMINISTRA...           EX   \n",
       "3  /O=UTTYLER ORGANIZATION/OU=EXCHANGE ADMINISTRA...           EX   \n",
       "4  /O=UTTYLER ORGANIZATION/OU=EXCHANGE ADMINISTRA...           EX   \n",
       "\n",
       "      To: (Name)                                      To: (Address)  \\\n",
       "0  Ashim Sedhain  /o=UTTyler Organization/ou=Exchange Administra...   \n",
       "1            NaN                                                NaN   \n",
       "2            NaN                                                NaN   \n",
       "3            NaN                                                NaN   \n",
       "4            NaN                                                NaN   \n",
       "\n",
       "  To: (Type) CC: (Name) CC: (Address) CC: (Type)  BCC: (Name)  BCC: (Address)  \\\n",
       "0         EX        NaN           NaN        NaN          NaN             NaN   \n",
       "1        NaN        NaN           NaN        NaN          NaN             NaN   \n",
       "2        NaN        NaN           NaN        NaN          NaN             NaN   \n",
       "3        NaN        NaN           NaN        NaN          NaN             NaN   \n",
       "4        NaN        NaN           NaN        NaN          NaN             NaN   \n",
       "\n",
       "   BCC: (Type)  Billing Information  Categories Importance  Mileage  \\\n",
       "0          NaN                  NaN         NaN     Normal      NaN   \n",
       "1          NaN                  NaN         NaN     Normal      NaN   \n",
       "2          NaN                  NaN         NaN     Normal      NaN   \n",
       "3          NaN                  NaN         NaN     Normal      NaN   \n",
       "4          NaN                  NaN         NaN     Normal      NaN   \n",
       "\n",
       "  Sensitivity  \n",
       "0      Normal  \n",
       "1      Normal  \n",
       "2      Normal  \n",
       "3      Normal  \n",
       "4      Normal  "
      ]
     },
     "execution_count": 22,
     "metadata": {},
     "output_type": "execute_result"
    }
   ],
   "source": [
    "email_df.head()"
   ]
  },
  {
   "cell_type": "markdown",
   "metadata": {},
   "source": [
    "#### We can see that we get alot of data from the email. We will only use the subject and body of the email for the classification"
   ]
  },
  {
   "cell_type": "markdown",
   "metadata": {},
   "source": [
    "#### Dropping columns all the columns besides the \"Subject\", and \"Body\"."
   ]
  },
  {
   "cell_type": "code",
   "execution_count": 23,
   "metadata": {},
   "outputs": [],
   "source": [
    "email_df = email_df[[\"Subject\", \"Body\"]]"
   ]
  },
  {
   "cell_type": "markdown",
   "metadata": {},
   "source": [
    "#### Getting another look at the data now"
   ]
  },
  {
   "cell_type": "code",
   "execution_count": 24,
   "metadata": {},
   "outputs": [
    {
     "data": {
      "text/html": [
       "<div>\n",
       "<style scoped>\n",
       "    .dataframe tbody tr th:only-of-type {\n",
       "        vertical-align: middle;\n",
       "    }\n",
       "\n",
       "    .dataframe tbody tr th {\n",
       "        vertical-align: top;\n",
       "    }\n",
       "\n",
       "    .dataframe thead th {\n",
       "        text-align: right;\n",
       "    }\n",
       "</style>\n",
       "<table border=\"1\" class=\"dataframe\">\n",
       "  <thead>\n",
       "    <tr style=\"text-align: right;\">\n",
       "      <th></th>\n",
       "      <th>Subject</th>\n",
       "      <th>Body</th>\n",
       "    </tr>\n",
       "  </thead>\n",
       "  <tbody>\n",
       "    <tr>\n",
       "      <th>0</th>\n",
       "      <td>Your incident INC0121272 has been closed</td>\n",
       "      <td>Your incident INC0121272 has been closed. If y...</td>\n",
       "    </tr>\n",
       "    <tr>\n",
       "      <th>1</th>\n",
       "      <td>Preview of the May Agenda</td>\n",
       "      <td>Good morning! We would like to invite you to o...</td>\n",
       "    </tr>\n",
       "    <tr>\n",
       "      <th>2</th>\n",
       "      <td>CEP Dean Candidate Campus Wide Presentation/Go...</td>\n",
       "      <td>Please use the link below to access the Zoom r...</td>\n",
       "    </tr>\n",
       "    <tr>\n",
       "      <th>3</th>\n",
       "      <td>CEP Dean Candidate Campus Wide Presentation/Ro...</td>\n",
       "      <td>Please use the link below to access the Zoom r...</td>\n",
       "    </tr>\n",
       "    <tr>\n",
       "      <th>4</th>\n",
       "      <td>University Appreciation Week - A Few Reminders</td>\n",
       "      <td>Hello everyone!\\r\\n\\r\\n \\r\\n\\r\\nPlease see the...</td>\n",
       "    </tr>\n",
       "  </tbody>\n",
       "</table>\n",
       "</div>"
      ],
      "text/plain": [
       "                                             Subject  \\\n",
       "0           Your incident INC0121272 has been closed   \n",
       "1                          Preview of the May Agenda   \n",
       "2  CEP Dean Candidate Campus Wide Presentation/Go...   \n",
       "3  CEP Dean Candidate Campus Wide Presentation/Ro...   \n",
       "4     University Appreciation Week - A Few Reminders   \n",
       "\n",
       "                                                Body  \n",
       "0  Your incident INC0121272 has been closed. If y...  \n",
       "1  Good morning! We would like to invite you to o...  \n",
       "2  Please use the link below to access the Zoom r...  \n",
       "3  Please use the link below to access the Zoom r...  \n",
       "4  Hello everyone!\\r\\n\\r\\n \\r\\n\\r\\nPlease see the...  "
      ]
     },
     "execution_count": 24,
     "metadata": {},
     "output_type": "execute_result"
    }
   ],
   "source": [
    "email_df.head()"
   ]
  },
  {
   "cell_type": "markdown",
   "metadata": {},
   "source": [
    "# Cleaning the data "
   ]
  },
  {
   "cell_type": "markdown",
   "metadata": {},
   "source": [
    "#### Getting a closer look at the Body column"
   ]
  },
  {
   "cell_type": "code",
   "execution_count": 25,
   "metadata": {},
   "outputs": [
    {
     "data": {
      "text/plain": [
       "'You have been invited to take the survey: CCS Customer Satisfaction Survey. \\r\\n \\r\\nClick here to take your survey:\\r\\nhttps://uttyler.service-now.com/nav_to.do?uri=assessment_take2.do%3Fsysparm_assessable_type=4a9b211f2b0af10081807fb5a8da15d4%26sysparm_assessable_sysid=1afc56f5db5d73c8879ac3d239961920\\r\\n \\r\\nTo view your survey queue at any time, sign in and navigate to Self-Service > My Assessments & Surveys.\\r\\n \\r\\nRef:MSG1817995\\r\\n'"
      ]
     },
     "execution_count": 25,
     "metadata": {},
     "output_type": "execute_result"
    }
   ],
   "source": [
    "email_df.iloc[5, 1]"
   ]
  },
  {
   "cell_type": "markdown",
   "metadata": {},
   "source": [
    "#### We can see the body has a lot of data which needs to be cleaned and parsed."
   ]
  },
  {
   "cell_type": "markdown",
   "metadata": {},
   "source": [
    "#### Whenever a ticket is submitted, the ticket contains the information about the person who submitted the ticket, subject and body. We will extract the category, which we are trying to predict, the body, and the subject."
   ]
  },
  {
   "cell_type": "markdown",
   "metadata": {},
   "source": [
    "#### Extracting the category from the Body text"
   ]
  },
  {
   "cell_type": "code",
   "execution_count": 26,
   "metadata": {},
   "outputs": [],
   "source": [
    "email_df[\"Category\"]= email_df[\"Body\"].str.extract(r\"Category: (\\w+ ?\\w+)\\r\")"
   ]
  },
  {
   "cell_type": "markdown",
   "metadata": {},
   "source": [
    "#### Extracting Short Descriptions from the Body"
   ]
  },
  {
   "cell_type": "code",
   "execution_count": 27,
   "metadata": {},
   "outputs": [],
   "source": [
    "email_df[\"Short Description\"] = email_df[\"Body\"].str.extract(r\"Short Description: (.+)\\r\")"
   ]
  },
  {
   "cell_type": "markdown",
   "metadata": {},
   "source": [
    "#### Extracting Additional comments from the Body text"
   ]
  },
  {
   "cell_type": "code",
   "execution_count": 28,
   "metadata": {},
   "outputs": [],
   "source": [
    "email_df[\"Additional Comments\"] = email_df[\"Body\"].str.extract(r\"Additional comments\\r\\nreceived from:(.+)Ref\", flags = re.DOTALL)"
   ]
  },
  {
   "cell_type": "markdown",
   "metadata": {},
   "source": [
    "#### Removing all the rows that do not have a Category and Short Description as these are emails that did not contain ticket related information"
   ]
  },
  {
   "cell_type": "code",
   "execution_count": 29,
   "metadata": {},
   "outputs": [],
   "source": [
    "email_df.dropna(subset = [\"Category\", \"Short Description\"], inplace = True)"
   ]
  },
  {
   "cell_type": "markdown",
   "metadata": {},
   "source": [
    "#### We will look at the shape to count the number of observation."
   ]
  },
  {
   "cell_type": "code",
   "execution_count": 30,
   "metadata": {},
   "outputs": [
    {
     "data": {
      "text/plain": [
       "(4334, 5)"
      ]
     },
     "execution_count": 30,
     "metadata": {},
     "output_type": "execute_result"
    }
   ],
   "source": [
    "email_df.shape"
   ]
  },
  {
   "cell_type": "markdown",
   "metadata": {},
   "source": [
    "#### We will look at the our dataframe."
   ]
  },
  {
   "cell_type": "code",
   "execution_count": 31,
   "metadata": {},
   "outputs": [
    {
     "data": {
      "text/html": [
       "<div>\n",
       "<style scoped>\n",
       "    .dataframe tbody tr th:only-of-type {\n",
       "        vertical-align: middle;\n",
       "    }\n",
       "\n",
       "    .dataframe tbody tr th {\n",
       "        vertical-align: top;\n",
       "    }\n",
       "\n",
       "    .dataframe thead th {\n",
       "        text-align: right;\n",
       "    }\n",
       "</style>\n",
       "<table border=\"1\" class=\"dataframe\">\n",
       "  <thead>\n",
       "    <tr style=\"text-align: right;\">\n",
       "      <th></th>\n",
       "      <th>Short Description</th>\n",
       "      <th>Category</th>\n",
       "      <th>Additional Comments</th>\n",
       "    </tr>\n",
       "  </thead>\n",
       "  <tbody>\n",
       "    <tr>\n",
       "      <th>6</th>\n",
       "      <td>Ashim Sedhain - credential pick up</td>\n",
       "      <td>Account</td>\n",
       "      <td>NaN</td>\n",
       "    </tr>\n",
       "    <tr>\n",
       "      <th>41</th>\n",
       "      <td>Engineering office moves</td>\n",
       "      <td>Hardware</td>\n",
       "      <td>KatrinaSmith@uttyler.edu\\r\\n \\r\\nMichael,  \\r...</td>\n",
       "    </tr>\n",
       "    <tr>\n",
       "      <th>42</th>\n",
       "      <td>EVGA UV Plus - Multi-Screen expansion</td>\n",
       "      <td>Quotes</td>\n",
       "      <td>rpeterson@uttyler.edu\\r\\n \\r\\nBefore I purcha...</td>\n",
       "    </tr>\n",
       "    <tr>\n",
       "      <th>44</th>\n",
       "      <td>Printers</td>\n",
       "      <td>Hardware</td>\n",
       "      <td>sbouis@uttyler.edu\\r\\n \\r\\nPlease help us dis...</td>\n",
       "    </tr>\n",
       "    <tr>\n",
       "      <th>45</th>\n",
       "      <td>Event Reservation #20190522-00016: Resource St...</td>\n",
       "      <td>Classroom Technology</td>\n",
       "      <td>Astraemail@uttyler.edu\\r\\n \\r\\n \\r\\n</td>\n",
       "    </tr>\n",
       "  </tbody>\n",
       "</table>\n",
       "</div>"
      ],
      "text/plain": [
       "                                    Short Description              Category  \\\n",
       "6                  Ashim Sedhain - credential pick up               Account   \n",
       "41                           Engineering office moves              Hardware   \n",
       "42              EVGA UV Plus - Multi-Screen expansion                Quotes   \n",
       "44                                          Printers               Hardware   \n",
       "45  Event Reservation #20190522-00016: Resource St...  Classroom Technology   \n",
       "\n",
       "                                  Additional Comments  \n",
       "6                                                 NaN  \n",
       "41   KatrinaSmith@uttyler.edu\\r\\n \\r\\nMichael,  \\r...  \n",
       "42   rpeterson@uttyler.edu\\r\\n \\r\\nBefore I purcha...  \n",
       "44   sbouis@uttyler.edu\\r\\n \\r\\nPlease help us dis...  \n",
       "45               Astraemail@uttyler.edu\\r\\n \\r\\n \\r\\n  "
      ]
     },
     "execution_count": 31,
     "metadata": {},
     "output_type": "execute_result"
    }
   ],
   "source": [
    "email_df[[\"Short Description\", \"Category\", \"Additional Comments\"]].head()"
   ]
  },
  {
   "cell_type": "code",
   "execution_count": 32,
   "metadata": {},
   "outputs": [
    {
     "data": {
      "text/plain": [
       "6                                                   NaN\n",
       "41     KatrinaSmith@uttyler.edu\\r\\n \\r\\nMichael,  \\r...\n",
       "42     rpeterson@uttyler.edu\\r\\n \\r\\nBefore I purcha...\n",
       "44     sbouis@uttyler.edu\\r\\n \\r\\nPlease help us dis...\n",
       "45                 Astraemail@uttyler.edu\\r\\n \\r\\n \\r\\n\n",
       "Name: Additional Comments, dtype: object"
      ]
     },
     "execution_count": 32,
     "metadata": {},
     "output_type": "execute_result"
    }
   ],
   "source": [
    "email_df[\"Additional Comments\"].head()"
   ]
  },
  {
   "cell_type": "markdown",
   "metadata": {},
   "source": [
    "#### We can see that the Additional Comments needs to be further cleaned."
   ]
  },
  {
   "cell_type": "markdown",
   "metadata": {},
   "source": [
    "#### We will replace all the new line characters."
   ]
  },
  {
   "cell_type": "code",
   "execution_count": 33,
   "metadata": {},
   "outputs": [],
   "source": [
    "email_df[\"Additional Comments mod\"] = email_df[\"Additional Comments\"].str.replace(r\"\\r|\\n\", \"\", regex = True)"
   ]
  },
  {
   "cell_type": "code",
   "execution_count": 34,
   "metadata": {},
   "outputs": [],
   "source": [
    "email_df[\"Additional Comments mod\"] = email_df[\"Additional Comments mod\"].str.replace(r\"\\w+@\\w+\\.(edu)|(com)\", \"\")"
   ]
  },
  {
   "cell_type": "code",
   "execution_count": 35,
   "metadata": {},
   "outputs": [
    {
     "data": {
      "text/plain": [
       "6                                                   NaN\n",
       "41      Michael,   WE have some faculty moving offic...\n",
       "42      Before I purchase a new EVGA UV Plus device ...\n",
       "44      Please help us disconnect all desktop printe...\n",
       "45                                                     \n",
       "Name: Additional Comments mod, dtype: object"
      ]
     },
     "execution_count": 35,
     "metadata": {},
     "output_type": "execute_result"
    }
   ],
   "source": [
    "email_df[\"Additional Comments mod\"].head()"
   ]
  },
  {
   "cell_type": "markdown",
   "metadata": {},
   "source": [
    "#### Let's look at specific category and see their contents. "
   ]
  },
  {
   "cell_type": "code",
   "execution_count": 36,
   "metadata": {},
   "outputs": [],
   "source": [
    "gk = email_df.groupby(\"Category\")"
   ]
  },
  {
   "cell_type": "code",
   "execution_count": 37,
   "metadata": {},
   "outputs": [
    {
     "data": {
      "text/html": [
       "<div>\n",
       "<style scoped>\n",
       "    .dataframe tbody tr th:only-of-type {\n",
       "        vertical-align: middle;\n",
       "    }\n",
       "\n",
       "    .dataframe tbody tr th {\n",
       "        vertical-align: top;\n",
       "    }\n",
       "\n",
       "    .dataframe thead th {\n",
       "        text-align: right;\n",
       "    }\n",
       "</style>\n",
       "<table border=\"1\" class=\"dataframe\">\n",
       "  <thead>\n",
       "    <tr style=\"text-align: right;\">\n",
       "      <th></th>\n",
       "      <th>Subject</th>\n",
       "      <th>Body</th>\n",
       "      <th>Short Description</th>\n",
       "      <th>Additional Comments</th>\n",
       "      <th>Additional Comments mod</th>\n",
       "    </tr>\n",
       "    <tr>\n",
       "      <th>Category</th>\n",
       "      <th></th>\n",
       "      <th></th>\n",
       "      <th></th>\n",
       "      <th></th>\n",
       "      <th></th>\n",
       "    </tr>\n",
       "  </thead>\n",
       "  <tbody>\n",
       "    <tr>\n",
       "      <th>Account</th>\n",
       "      <td>Your incident INC0121272 has been resolved due...</td>\n",
       "      <td>Due to no customer response your incident INC0...</td>\n",
       "      <td>Ashim Sedhain - credential pick up</td>\n",
       "      <td>\\r\\n \\r\\nYes hi I don't expect it into each e...</td>\n",
       "      <td>Yes hi I don't expect it into each each holl...</td>\n",
       "    </tr>\n",
       "    <tr>\n",
       "      <th>Classroom Technology</th>\n",
       "      <td>Incident INC0122885 has been assigned to group...</td>\n",
       "      <td>Short Description: Event Reservation #20190522...</td>\n",
       "      <td>Event Reservation #20190522-00016: Resource St...</td>\n",
       "      <td>Astraemail@uttyler.edu\\r\\n \\r\\n \\r\\n</td>\n",
       "      <td></td>\n",
       "    </tr>\n",
       "    <tr>\n",
       "      <th>Delete</th>\n",
       "      <td>Incident INC0122931 has been assigned to group...</td>\n",
       "      <td>Short Description: Congratulations : Assignmen...</td>\n",
       "      <td>Congratulations : Assignment Writing Service f...</td>\n",
       "      <td>shalu.rani@aol.com\\r\\n \\r\\nDear Students,\\r\\n...</td>\n",
       "      <td>shalu.rani@aol. Dear Students,   Yourchance o...</td>\n",
       "    </tr>\n",
       "    <tr>\n",
       "      <th>Hardware</th>\n",
       "      <td>Incident INC0122904 has been assigned to group...</td>\n",
       "      <td>Short Description: Engineering office moves\\r\\...</td>\n",
       "      <td>Engineering office moves</td>\n",
       "      <td>KatrinaSmith@uttyler.edu\\r\\n \\r\\nMichael,  \\r...</td>\n",
       "      <td>Michael,   WE have some faculty moving offic...</td>\n",
       "    </tr>\n",
       "    <tr>\n",
       "      <th>None</th>\n",
       "      <td>Incident INC0125169 has been assigned to group...</td>\n",
       "      <td>Short Description: Dakota-Request to borrow a ...</td>\n",
       "      <td>Dakota-Request to borrow a monitor temporarily</td>\n",
       "      <td>NaN</td>\n",
       "      <td>NaN</td>\n",
       "    </tr>\n",
       "    <tr>\n",
       "      <th>Questions</th>\n",
       "      <td>Incident INC0127614 has been assigned to group...</td>\n",
       "      <td>Short Description: Jooble partnership outlook....</td>\n",
       "      <td>Jooble partnership outlook.uttyler.edu</td>\n",
       "      <td>rma@jooble.jobs\\r\\n \\r\\nHello,\\r\\n \\r\\nHope y...</td>\n",
       "      <td>rma@jooble.jobs Hello, Hope you are doing wel...</td>\n",
       "    </tr>\n",
       "    <tr>\n",
       "      <th>Quotes</th>\n",
       "      <td>Incident INC0122638 has been assigned to group...</td>\n",
       "      <td>Short Description: EVGA UV Plus - Multi-Screen...</td>\n",
       "      <td>EVGA UV Plus - Multi-Screen expansion</td>\n",
       "      <td>rpeterson@uttyler.edu\\r\\n \\r\\nBefore I purcha...</td>\n",
       "      <td>Before I purchase a new EVGA UV Plus device ...</td>\n",
       "    </tr>\n",
       "    <tr>\n",
       "      <th>Software</th>\n",
       "      <td>Incident INC0122883 has been assigned to group...</td>\n",
       "      <td>Short Description: Adobe Flash Player installa...</td>\n",
       "      <td>Adobe Flash Player installation</td>\n",
       "      <td>TArtley@uttyler.edu\\r\\n \\r\\nGood Afternoon, \\...</td>\n",
       "      <td>Good Afternoon,  I need to have adobe flash ...</td>\n",
       "    </tr>\n",
       "    <tr>\n",
       "      <th>Telecomm</th>\n",
       "      <td>Incident INC0129425 has been assigned to group...</td>\n",
       "      <td>Short Description: OTS Alert - Ticket ID: 1232...</td>\n",
       "      <td>OTS Alert - Ticket ID: 1232 - Houston to Lake ...</td>\n",
       "      <td>no-reply@ots.utsystem.edu\\r\\n \\r\\nUnfortunate...</td>\n",
       "      <td>no-reply@ots.utsystem.edu Unfortunately, noth...</td>\n",
       "    </tr>\n",
       "  </tbody>\n",
       "</table>\n",
       "</div>"
      ],
      "text/plain": [
       "                                                                Subject  \\\n",
       "Category                                                                  \n",
       "Account               Your incident INC0121272 has been resolved due...   \n",
       "Classroom Technology  Incident INC0122885 has been assigned to group...   \n",
       "Delete                Incident INC0122931 has been assigned to group...   \n",
       "Hardware              Incident INC0122904 has been assigned to group...   \n",
       "None                  Incident INC0125169 has been assigned to group...   \n",
       "Questions             Incident INC0127614 has been assigned to group...   \n",
       "Quotes                Incident INC0122638 has been assigned to group...   \n",
       "Software              Incident INC0122883 has been assigned to group...   \n",
       "Telecomm              Incident INC0129425 has been assigned to group...   \n",
       "\n",
       "                                                                   Body  \\\n",
       "Category                                                                  \n",
       "Account               Due to no customer response your incident INC0...   \n",
       "Classroom Technology  Short Description: Event Reservation #20190522...   \n",
       "Delete                Short Description: Congratulations : Assignmen...   \n",
       "Hardware              Short Description: Engineering office moves\\r\\...   \n",
       "None                  Short Description: Dakota-Request to borrow a ...   \n",
       "Questions             Short Description: Jooble partnership outlook....   \n",
       "Quotes                Short Description: EVGA UV Plus - Multi-Screen...   \n",
       "Software              Short Description: Adobe Flash Player installa...   \n",
       "Telecomm              Short Description: OTS Alert - Ticket ID: 1232...   \n",
       "\n",
       "                                                      Short Description  \\\n",
       "Category                                                                  \n",
       "Account                              Ashim Sedhain - credential pick up   \n",
       "Classroom Technology  Event Reservation #20190522-00016: Resource St...   \n",
       "Delete                Congratulations : Assignment Writing Service f...   \n",
       "Hardware                                       Engineering office moves   \n",
       "None                     Dakota-Request to borrow a monitor temporarily   \n",
       "Questions                        Jooble partnership outlook.uttyler.edu   \n",
       "Quotes                            EVGA UV Plus - Multi-Screen expansion   \n",
       "Software                                Adobe Flash Player installation   \n",
       "Telecomm              OTS Alert - Ticket ID: 1232 - Houston to Lake ...   \n",
       "\n",
       "                                                    Additional Comments  \\\n",
       "Category                                                                  \n",
       "Account                \\r\\n \\r\\nYes hi I don't expect it into each e...   \n",
       "Classroom Technology               Astraemail@uttyler.edu\\r\\n \\r\\n \\r\\n   \n",
       "Delete                 shalu.rani@aol.com\\r\\n \\r\\nDear Students,\\r\\n...   \n",
       "Hardware               KatrinaSmith@uttyler.edu\\r\\n \\r\\nMichael,  \\r...   \n",
       "None                                                                NaN   \n",
       "Questions              rma@jooble.jobs\\r\\n \\r\\nHello,\\r\\n \\r\\nHope y...   \n",
       "Quotes                 rpeterson@uttyler.edu\\r\\n \\r\\nBefore I purcha...   \n",
       "Software               TArtley@uttyler.edu\\r\\n \\r\\nGood Afternoon, \\...   \n",
       "Telecomm               no-reply@ots.utsystem.edu\\r\\n \\r\\nUnfortunate...   \n",
       "\n",
       "                                                Additional Comments mod  \n",
       "Category                                                                 \n",
       "Account                 Yes hi I don't expect it into each each holl...  \n",
       "Classroom Technology                                                     \n",
       "Delete                 shalu.rani@aol. Dear Students,   Yourchance o...  \n",
       "Hardware                Michael,   WE have some faculty moving offic...  \n",
       "None                                                                NaN  \n",
       "Questions              rma@jooble.jobs Hello, Hope you are doing wel...  \n",
       "Quotes                  Before I purchase a new EVGA UV Plus device ...  \n",
       "Software                Good Afternoon,  I need to have adobe flash ...  \n",
       "Telecomm               no-reply@ots.utsystem.edu Unfortunately, noth...  "
      ]
     },
     "execution_count": 37,
     "metadata": {},
     "output_type": "execute_result"
    }
   ],
   "source": [
    "gk.first()"
   ]
  },
  {
   "cell_type": "markdown",
   "metadata": {},
   "source": [
    "#### We will concatenate the Short Description and Additional Comments field to get the Feature which will be used for the final classification."
   ]
  },
  {
   "cell_type": "code",
   "execution_count": 38,
   "metadata": {},
   "outputs": [],
   "source": [
    "email_df[\"Feature\"] = email_df[\"Short Description\"].str.cat(email_df[\"Additional Comments mod\"], sep = ' ')"
   ]
  },
  {
   "cell_type": "code",
   "execution_count": 39,
   "metadata": {},
   "outputs": [],
   "source": [
    "email_df[\"Feature\"].fillna(value = email_df[\"Short Description\"], inplace = True)"
   ]
  },
  {
   "cell_type": "markdown",
   "metadata": {},
   "source": [
    "#### A side note: There are dublicate tickets which will not be present in the final production and thus need to be removed from our sample"
   ]
  },
  {
   "cell_type": "markdown",
   "metadata": {},
   "source": [
    "#### Extracting the incident number"
   ]
  },
  {
   "cell_type": "code",
   "execution_count": 40,
   "metadata": {},
   "outputs": [],
   "source": [
    "email_df[\"Incident Number\"] = email_df[\"Subject\"].str.extract(r\"INC(\\d+) \")"
   ]
  },
  {
   "cell_type": "code",
   "execution_count": 41,
   "metadata": {},
   "outputs": [
    {
     "name": "stdout",
     "output_type": "stream",
     "text": [
      "Total number of unique emails: 3838\n"
     ]
    }
   ],
   "source": [
    "print(f\"Total number of unique emails: {email_df['Incident Number'].unique().size}\")"
   ]
  },
  {
   "cell_type": "code",
   "execution_count": 42,
   "metadata": {},
   "outputs": [
    {
     "name": "stdout",
     "output_type": "stream",
     "text": [
      "Total number of incidents: 4334\n"
     ]
    }
   ],
   "source": [
    "print(f\"Total number of incidents: {email_df['Incident Number'].size}\")"
   ]
  },
  {
   "cell_type": "markdown",
   "metadata": {},
   "source": [
    "#### There seems to be dublicate incidents which need to be removed"
   ]
  },
  {
   "cell_type": "markdown",
   "metadata": {},
   "source": [
    "## We will now look at our data and perfrom a simple data analysis"
   ]
  },
  {
   "cell_type": "markdown",
   "metadata": {},
   "source": [
    "####  Lets look at the historgram of the lables"
   ]
  },
  {
   "cell_type": "code",
   "execution_count": 43,
   "metadata": {},
   "outputs": [
    {
     "data": {
      "image/png": "[encoded data removed]",
      "text/plain": [
       "<Figure size 432x288 with 1 Axes>"
      ]
     },
     "metadata": {
      "needs_background": "light"
     },
     "output_type": "display_data"
    }
   ],
   "source": [
    "ax = sns.countplot(\"Category\", data = email_df)\n",
    "ax = ax.set_xticklabels(ax.get_xticklabels(),rotation=90)"
   ]
  },
  {
   "cell_type": "markdown",
   "metadata": {},
   "source": [
    "#### Seeing the ratio of each class"
   ]
  },
  {
   "cell_type": "code",
   "execution_count": 44,
   "metadata": {},
   "outputs": [
    {
     "data": {
      "text/plain": [
       "Software                50.553761\n",
       "Classroom Technology    25.034610\n",
       "Hardware                13.359483\n",
       "Account                  5.791417\n",
       "Quotes                   3.691740\n",
       "Delete                   1.315182\n",
       "Questions                0.115367\n",
       "None                     0.115367\n",
       "Telecomm                 0.023073\n",
       "Name: Category, dtype: float64"
      ]
     },
     "execution_count": 44,
     "metadata": {},
     "output_type": "execute_result"
    }
   ],
   "source": [
    "email_df[\"Category\"].value_counts()*100/email_df[\"Category\"].size"
   ]
  },
  {
   "cell_type": "markdown",
   "metadata": {},
   "source": [
    "#### We can see that the categories are heavly imbalanced. We will need to account for the imbalance."
   ]
  },
  {
   "cell_type": "markdown",
   "metadata": {},
   "source": [
    "## Modeling"
   ]
  },
  {
   "cell_type": "markdown",
   "metadata": {},
   "source": [
    "#### Converting the classes into numerical representation"
   ]
  },
  {
   "cell_type": "code",
   "execution_count": 45,
   "metadata": {},
   "outputs": [],
   "source": [
    "dic = {i:j for i, j in zip(email_df[\"Category\"].unique(), range(len(email_df[\"Category\"].unique())))}"
   ]
  },
  {
   "cell_type": "code",
   "execution_count": 46,
   "metadata": {},
   "outputs": [],
   "source": [
    "email_df[\"Targets\"] = email_df[\"Category\"].map(dic)"
   ]
  },
  {
   "cell_type": "markdown",
   "metadata": {},
   "source": [
    "#### Looking at our data and seeing where we are."
   ]
  },
  {
   "cell_type": "code",
   "execution_count": 47,
   "metadata": {},
   "outputs": [
    {
     "data": {
      "text/html": [
       "<div>\n",
       "<style scoped>\n",
       "    .dataframe tbody tr th:only-of-type {\n",
       "        vertical-align: middle;\n",
       "    }\n",
       "\n",
       "    .dataframe tbody tr th {\n",
       "        vertical-align: top;\n",
       "    }\n",
       "\n",
       "    .dataframe thead th {\n",
       "        text-align: right;\n",
       "    }\n",
       "</style>\n",
       "<table border=\"1\" class=\"dataframe\">\n",
       "  <thead>\n",
       "    <tr style=\"text-align: right;\">\n",
       "      <th></th>\n",
       "      <th>Feature</th>\n",
       "      <th>Category</th>\n",
       "      <th>Targets</th>\n",
       "    </tr>\n",
       "  </thead>\n",
       "  <tbody>\n",
       "    <tr>\n",
       "      <th>6</th>\n",
       "      <td>Ashim Sedhain - credential pick up</td>\n",
       "      <td>Account</td>\n",
       "      <td>0</td>\n",
       "    </tr>\n",
       "    <tr>\n",
       "      <th>41</th>\n",
       "      <td>Engineering office moves   Michael,   WE have ...</td>\n",
       "      <td>Hardware</td>\n",
       "      <td>1</td>\n",
       "    </tr>\n",
       "    <tr>\n",
       "      <th>42</th>\n",
       "      <td>EVGA UV Plus - Multi-Screen expansion   Before...</td>\n",
       "      <td>Quotes</td>\n",
       "      <td>2</td>\n",
       "    </tr>\n",
       "    <tr>\n",
       "      <th>44</th>\n",
       "      <td>Printers    Please help us disconnect all desk...</td>\n",
       "      <td>Hardware</td>\n",
       "      <td>1</td>\n",
       "    </tr>\n",
       "    <tr>\n",
       "      <th>45</th>\n",
       "      <td>Event Reservation #20190522-00016: Resource St...</td>\n",
       "      <td>Classroom Technology</td>\n",
       "      <td>3</td>\n",
       "    </tr>\n",
       "  </tbody>\n",
       "</table>\n",
       "</div>"
      ],
      "text/plain": [
       "                                              Feature              Category  \\\n",
       "6                  Ashim Sedhain - credential pick up               Account   \n",
       "41  Engineering office moves   Michael,   WE have ...              Hardware   \n",
       "42  EVGA UV Plus - Multi-Screen expansion   Before...                Quotes   \n",
       "44  Printers    Please help us disconnect all desk...              Hardware   \n",
       "45  Event Reservation #20190522-00016: Resource St...  Classroom Technology   \n",
       "\n",
       "    Targets  \n",
       "6         0  \n",
       "41        1  \n",
       "42        2  \n",
       "44        1  \n",
       "45        3  "
      ]
     },
     "execution_count": 47,
     "metadata": {},
     "output_type": "execute_result"
    }
   ],
   "source": [
    "email_df[[\"Feature\", \"Category\",\"Targets\"]].head()"
   ]
  },
  {
   "cell_type": "markdown",
   "metadata": {},
   "source": [
    "#### We will only be using the Feature column for our classification."
   ]
  },
  {
   "cell_type": "code",
   "execution_count": 48,
   "metadata": {},
   "outputs": [],
   "source": [
    "X = email_df[\"Feature\"]\n",
    "y = email_df[\"Targets\"]"
   ]
  },
  {
   "cell_type": "markdown",
   "metadata": {},
   "source": [
    "#### Spliting the data for training and testing"
   ]
  },
  {
   "cell_type": "code",
   "execution_count": 49,
   "metadata": {},
   "outputs": [],
   "source": [
    "x_train, x_test, y_train, y_test = train_test_split(X, y, random_state = 0)"
   ]
  },
  {
   "cell_type": "markdown",
   "metadata": {},
   "source": [
    "#### Fitting the CountVectorizer to the training data"
   ]
  },
  {
   "cell_type": "code",
   "execution_count": 50,
   "metadata": {},
   "outputs": [],
   "source": [
    "# vect = CountVectorizer()\n",
    "vect = TfidfVectorizer(ngram_range = (1, 1))"
   ]
  },
  {
   "cell_type": "code",
   "execution_count": 51,
   "metadata": {},
   "outputs": [],
   "source": [
    "vect = vect.fit(x_train)"
   ]
  },
  {
   "cell_type": "markdown",
   "metadata": {},
   "source": [
    "#### We can see how many features we have."
   ]
  },
  {
   "cell_type": "code",
   "execution_count": 52,
   "metadata": {},
   "outputs": [
    {
     "data": {
      "text/plain": [
       "13450"
      ]
     },
     "execution_count": 52,
     "metadata": {},
     "output_type": "execute_result"
    }
   ],
   "source": [
    "len(vect.get_feature_names())"
   ]
  },
  {
   "cell_type": "markdown",
   "metadata": {},
   "source": [
    "#### Transforming our training data into a sparse matrix"
   ]
  },
  {
   "cell_type": "code",
   "execution_count": 53,
   "metadata": {},
   "outputs": [],
   "source": [
    "x_train_vec = vect.transform(x_train)"
   ]
  },
  {
   "cell_type": "code",
   "execution_count": 54,
   "metadata": {},
   "outputs": [
    {
     "data": {
      "text/plain": [
       "<3250x13450 sparse matrix of type '<class 'numpy.float64'>'\n",
       "\twith 122829 stored elements in Compressed Sparse Row format>"
      ]
     },
     "execution_count": 54,
     "metadata": {},
     "output_type": "execute_result"
    }
   ],
   "source": [
    "x_train_vec"
   ]
  },
  {
   "cell_type": "markdown",
   "metadata": {},
   "source": [
    "## Classification"
   ]
  },
  {
   "cell_type": "markdown",
   "metadata": {},
   "source": [
    "#### We will create multiple models and compare there performance."
   ]
  },
  {
   "cell_type": "markdown",
   "metadata": {},
   "source": [
    "#### Supervised Learning"
   ]
  },
  {
   "cell_type": "code",
   "execution_count": 55,
   "metadata": {},
   "outputs": [],
   "source": [
    "logistic_clf = LogisticRegression(multi_class = \"multinomial\", solver = \"lbfgs\", random_state = 0)"
   ]
  },
  {
   "cell_type": "code",
   "execution_count": 56,
   "metadata": {},
   "outputs": [],
   "source": [
    "naive_clf = MultinomialNB(alpha=0.001)"
   ]
  },
  {
   "cell_type": "code",
   "execution_count": 57,
   "metadata": {},
   "outputs": [],
   "source": [
    "svm_clf = svm.SVC(gamma = 0.1, random_state = 0, kernel = \"linear\")"
   ]
  },
  {
   "cell_type": "code",
   "execution_count": 58,
   "metadata": {},
   "outputs": [],
   "source": [
    "knn_clf = KNeighborsClassifier(n_neighbors=20)"
   ]
  },
  {
   "cell_type": "code",
   "execution_count": 59,
   "metadata": {},
   "outputs": [],
   "source": [
    "rf_clf = RandomForestClassifier(n_estimators=50, max_depth=5,random_state=0)"
   ]
  },
  {
   "cell_type": "code",
   "execution_count": 60,
   "metadata": {},
   "outputs": [],
   "source": [
    "gb_clf = GradientBoostingClassifier(n_estimators = 100, max_depth = 3, random_state = 0)"
   ]
  },
  {
   "cell_type": "code",
   "execution_count": 61,
   "metadata": {},
   "outputs": [],
   "source": [
    "clf = [logistic_clf, naive_clf, svm_clf, knn_clf, rf_clf, gb_clf]\n",
    "\n",
    "clf_dic = [\"Logistic\", \"Naive\", \"SVM\", \"KNN\", \"RandomForest\", \"GradientBoosting\"]"
   ]
  },
  {
   "cell_type": "markdown",
   "metadata": {},
   "source": [
    "#### Fitting all the models"
   ]
  },
  {
   "cell_type": "code",
   "execution_count": 62,
   "metadata": {},
   "outputs": [],
   "source": [
    "for i in clf:\n",
    "    i.fit(x_train_vec, y_train)"
   ]
  },
  {
   "cell_type": "markdown",
   "metadata": {},
   "source": [
    "#### Looking at the f1 score of each classifier"
   ]
  },
  {
   "cell_type": "code",
   "execution_count": 63,
   "metadata": {},
   "outputs": [
    {
     "name": "stdout",
     "output_type": "stream",
     "text": [
      "Logistic: 0.827490774907749\n",
      "Naive: 0.8035055350553506\n",
      "SVM: 0.8330258302583026\n",
      "KNN: 0.8025830258302583\n",
      "RandomForest: 0.6291512915129152\n",
      "GradientBoosting: 0.8136531365313654\n"
     ]
    }
   ],
   "source": [
    "for i,j in zip(clf_dic, clf):\n",
    "    print(f\"{i}: {f1_score(j.predict(vect.transform(x_test)), y_test, average = 'micro')}\")"
   ]
  },
  {
   "cell_type": "markdown",
   "metadata": {},
   "source": [
    "#### We will look at the top features from each of the classifiers"
   ]
  },
  {
   "cell_type": "code",
   "execution_count": 64,
   "metadata": {},
   "outputs": [],
   "source": [
    "def show_top10(classifier, vectorizer, categories):\n",
    "    feature_names = np.asarray(vectorizer.get_feature_names())\n",
    "    for i, category in enumerate(categories):\n",
    "        top10 = np.argsort(classifier.coef_[i])[-10:]\n",
    "        print(\"%s: %s\" % (category, \" \".join(feature_names[top10])))"
   ]
  },
  {
   "cell_type": "code",
   "execution_count": 65,
   "metadata": {},
   "outputs": [
    {
     "name": "stdout",
     "output_type": "stream",
     "text": [
      "Account: pick change patriots name log pw password employee reset account\n",
      "Hardware: device office lab monitor printers move print disposal computer printer\n",
      "Quotes: specs adobe two dell pro acrobat order purchase for quote\n",
      "Classroom Technology: ignore room call assist over tech send projector display missed\n",
      "Software: onedrive windows desktop shared install outlook my imagenow access image\n",
      "Delete: email ru m2bhko5pr1e4fki7zhx1nggkojpguezp9zsu bxgzu8 tibh trouble gmail login proofpoint delete\n",
      "None: dept delivery macbook imac air pros mathematic probook 21020 030466\n",
      "Questions: goal https security email student address cs info jooble roles\n",
      "Telecomm: at jackson down utsystem 1232 lake galveston circuits ots houston\n"
     ]
    }
   ],
   "source": [
    "show_top10(logistic_clf, vect, email_df[\"Category\"].unique())"
   ]
  },
  {
   "cell_type": "code",
   "execution_count": 66,
   "metadata": {},
   "outputs": [
    {
     "name": "stdout",
     "output_type": "stream",
     "text": [
      "Account: myuttyler to password employee change name my account pw reset\n",
      "Hardware: tyler university 903 in of and computer to the printer\n",
      "Quotes: order to 903 and university tyler of the for quote\n",
      "Classroom Technology: will laptop pc display to me send over assist tech\n",
      "Software: for access is in my of and image the to\n",
      "Delete: in of https and email for the proofpoint to delete\n",
      "None: dept delivery macbook imac air pros mathematic probook 21020 030466\n",
      "Questions: you https student email info address cs jooble the roles\n",
      "Telecomm: jackson to down utsystem 1232 lake ots galveston circuits houston\n"
     ]
    }
   ],
   "source": [
    "show_top10(naive_clf, vect, email_df[\"Category\"].unique())"
   ]
  },
  {
   "cell_type": "code",
   "execution_count": 69,
   "metadata": {},
   "outputs": [
    {
     "ename": "AttributeError",
     "evalue": "'GradientBoostingClassifier' object has no attribute 'coef_'",
     "output_type": "error",
     "traceback": [
      "\u001b[1;31m---------------------------------------------------------------------------\u001b[0m",
      "\u001b[1;31mAttributeError\u001b[0m                            Traceback (most recent call last)",
      "\u001b[1;32m<ipython-input-69-85252ac9b0e0>\u001b[0m in \u001b[0;36m<module>\u001b[1;34m\u001b[0m\n\u001b[1;32m----> 1\u001b[1;33m \u001b[0mshow_top10\u001b[0m\u001b[1;33m(\u001b[0m\u001b[0mgb_clf\u001b[0m\u001b[1;33m,\u001b[0m \u001b[0mvect\u001b[0m\u001b[1;33m,\u001b[0m \u001b[0memail_df\u001b[0m\u001b[1;33m[\u001b[0m\u001b[1;34m\"Category\"\u001b[0m\u001b[1;33m]\u001b[0m\u001b[1;33m.\u001b[0m\u001b[0munique\u001b[0m\u001b[1;33m(\u001b[0m\u001b[1;33m)\u001b[0m\u001b[1;33m)\u001b[0m\u001b[1;33m\u001b[0m\u001b[1;33m\u001b[0m\u001b[0m\n\u001b[0m",
      "\u001b[1;32m<ipython-input-64-a229ee5a852f>\u001b[0m in \u001b[0;36mshow_top10\u001b[1;34m(classifier, vectorizer, categories)\u001b[0m\n\u001b[0;32m      2\u001b[0m     \u001b[0mfeature_names\u001b[0m \u001b[1;33m=\u001b[0m \u001b[0mnp\u001b[0m\u001b[1;33m.\u001b[0m\u001b[0masarray\u001b[0m\u001b[1;33m(\u001b[0m\u001b[0mvectorizer\u001b[0m\u001b[1;33m.\u001b[0m\u001b[0mget_feature_names\u001b[0m\u001b[1;33m(\u001b[0m\u001b[1;33m)\u001b[0m\u001b[1;33m)\u001b[0m\u001b[1;33m\u001b[0m\u001b[1;33m\u001b[0m\u001b[0m\n\u001b[0;32m      3\u001b[0m     \u001b[1;32mfor\u001b[0m \u001b[0mi\u001b[0m\u001b[1;33m,\u001b[0m \u001b[0mcategory\u001b[0m \u001b[1;32min\u001b[0m \u001b[0menumerate\u001b[0m\u001b[1;33m(\u001b[0m\u001b[0mcategories\u001b[0m\u001b[1;33m)\u001b[0m\u001b[1;33m:\u001b[0m\u001b[1;33m\u001b[0m\u001b[1;33m\u001b[0m\u001b[0m\n\u001b[1;32m----> 4\u001b[1;33m         \u001b[0mtop10\u001b[0m \u001b[1;33m=\u001b[0m \u001b[0mnp\u001b[0m\u001b[1;33m.\u001b[0m\u001b[0margsort\u001b[0m\u001b[1;33m(\u001b[0m\u001b[0mclassifier\u001b[0m\u001b[1;33m.\u001b[0m\u001b[0mcoef_\u001b[0m\u001b[1;33m[\u001b[0m\u001b[0mi\u001b[0m\u001b[1;33m]\u001b[0m\u001b[1;33m)\u001b[0m\u001b[1;33m[\u001b[0m\u001b[1;33m-\u001b[0m\u001b[1;36m10\u001b[0m\u001b[1;33m:\u001b[0m\u001b[1;33m]\u001b[0m\u001b[1;33m\u001b[0m\u001b[1;33m\u001b[0m\u001b[0m\n\u001b[0m\u001b[0;32m      5\u001b[0m         \u001b[0mprint\u001b[0m\u001b[1;33m(\u001b[0m\u001b[1;34m\"%s: %s\"\u001b[0m \u001b[1;33m%\u001b[0m \u001b[1;33m(\u001b[0m\u001b[0mcategory\u001b[0m\u001b[1;33m,\u001b[0m \u001b[1;34m\" \"\u001b[0m\u001b[1;33m.\u001b[0m\u001b[0mjoin\u001b[0m\u001b[1;33m(\u001b[0m\u001b[0mfeature_names\u001b[0m\u001b[1;33m[\u001b[0m\u001b[0mtop10\u001b[0m\u001b[1;33m]\u001b[0m\u001b[1;33m)\u001b[0m\u001b[1;33m)\u001b[0m\u001b[1;33m)\u001b[0m\u001b[1;33m\u001b[0m\u001b[1;33m\u001b[0m\u001b[0m\n",
      "\u001b[1;31mAttributeError\u001b[0m: 'GradientBoostingClassifier' object has no attribute 'coef_'"
     ]
    }
   ],
   "source": [
    "show_top10(gb_clf, vect, email_df[\"Category\"].unique())"
   ]
  },
  {
   "cell_type": "markdown",
   "metadata": {},
   "source": [
    "# Further Improvements"
   ]
  },
  {
   "cell_type": "markdown",
   "metadata": {},
   "source": [
    "#### We can see some of the words that have been associated to different categories. The thing to notice in the Naive classifier is that, \"for\", \"of\", \"it\" and other stop words have been mapped to account category which will need to be removed. Furthermore, in the classroom technology category, \"tech\", \"over\", \"send\" have been mapped, which comes from the system bypassing the prediction process. So, those need to be removed as well. This can be happening with other categories and as such needs further cleanning."
   ]
  },
  {
   "cell_type": "code",
   "execution_count": null,
   "metadata": {},
   "outputs": [],
   "source": []
  }
 ],
 "metadata": {
  "kernelspec": {
   "display_name": "Python 3",
   "language": "python",
   "name": "python3"
  },
  "language_info": {
   "codemirror_mode": {
    "name": "ipython",
    "version": 3
   },
   "file_extension": ".py",
   "mimetype": "text/x-python",
   "name": "python",
   "nbconvert_exporter": "python",
   "pygments_lexer": "ipython3",
   "version": "3.7.2"
  }
 },
 "nbformat": 4,
 "nbformat_minor": 2
}
