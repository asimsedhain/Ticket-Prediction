{
 "cells": [
  {
   "cell_type": "markdown",
   "metadata": {},
   "source": [
    "# Predicting Category of an incident based on the information provided by the customer"
   ]
  },
  {
   "cell_type": "markdown",
   "metadata": {},
   "source": [
    "### In this notebook, I am testing out to see if a basic classifier can do the job of classifying incidents reported to the campus computing department of UT Tyler "
   ]
  },
  {
   "cell_type": "markdown",
   "metadata": {},
   "source": [
    "#### Importing all the needed libraries"
   ]
  },
  {
   "cell_type": "code",
   "execution_count": 371,
   "metadata": {},
   "outputs": [],
   "source": [
    "import pandas as pd\n",
    "import seaborn as sns\n",
    "import numpy as np\n",
    "import sklearn\n",
    "import scipy as sc\n",
    "import re\n",
    "from sklearn.preprocessing import MinMaxScaler\n",
    "from sklearn.preprocessing import StandardScaler\n",
    "from sklearn.preprocessing import MaxAbsScaler\n",
    "from sklearn.feature_extraction.text import CountVectorizer\n",
    "from sklearn.model_selection import train_test_split\n",
    "from sklearn.linear_model import LogisticRegression\n",
    "from sklearn.metrics import f1_score\n",
    "from sklearn.metrics import accuracy_score\n",
    "from sklearn.metrics import precision_score\n",
    "from sklearn.naive_bayes import MultinomialNB\n",
    "from sklearn import svm\n",
    "from sklearn.ensemble import RandomForestClassifier\n",
    "from sklearn.ensemble import GradientBoostingClassifier\n",
    "from sklearn.neighbors import KNeighborsClassifier\n",
    "from sklearn.feature_extraction.text import TfidfVectorizer\n",
    "from sklearn.model_selection import GridSearchCV"
   ]
  },
  {
   "cell_type": "markdown",
   "metadata": {},
   "source": [
    "#### Importing the data that is in cvs format"
   ]
  },
  {
   "cell_type": "code",
   "execution_count": 372,
   "metadata": {},
   "outputs": [],
   "source": [
    "email_df = pd.read_csv(\"emails.csv\", encoding='latin1')"
   ]
  },
  {
   "cell_type": "markdown",
   "metadata": {},
   "source": [
    "#### Looking at the data"
   ]
  },
  {
   "cell_type": "code",
   "execution_count": 373,
   "metadata": {},
   "outputs": [
    {
     "data": {
      "text/html": [
       "<div>\n",
       "<style scoped>\n",
       "    .dataframe tbody tr th:only-of-type {\n",
       "        vertical-align: middle;\n",
       "    }\n",
       "\n",
       "    .dataframe tbody tr th {\n",
       "        vertical-align: top;\n",
       "    }\n",
       "\n",
       "    .dataframe thead th {\n",
       "        text-align: right;\n",
       "    }\n",
       "</style>\n",
       "<table border=\"1\" class=\"dataframe\">\n",
       "  <thead>\n",
       "    <tr style=\"text-align: right;\">\n",
       "      <th></th>\n",
       "      <th>Subject</th>\n",
       "      <th>Body</th>\n",
       "      <th>From: (Name)</th>\n",
       "      <th>From: (Address)</th>\n",
       "      <th>From: (Type)</th>\n",
       "      <th>To: (Name)</th>\n",
       "      <th>To: (Address)</th>\n",
       "      <th>To: (Type)</th>\n",
       "      <th>CC: (Name)</th>\n",
       "      <th>CC: (Address)</th>\n",
       "      <th>CC: (Type)</th>\n",
       "      <th>BCC: (Name)</th>\n",
       "      <th>BCC: (Address)</th>\n",
       "      <th>BCC: (Type)</th>\n",
       "      <th>Billing Information</th>\n",
       "      <th>Categories</th>\n",
       "      <th>Importance</th>\n",
       "      <th>Mileage</th>\n",
       "      <th>Sensitivity</th>\n",
       "    </tr>\n",
       "  </thead>\n",
       "  <tbody>\n",
       "    <tr>\n",
       "      <th>1</th>\n",
       "      <td>Preview of the May Agenda</td>\n",
       "      <td>Good morning! We would like to invite you to o...</td>\n",
       "      <td>Lynette Sutter</td>\n",
       "      <td>/O=UTTYLER ORGANIZATION/OU=EXCHANGE ADMINISTRA...</td>\n",
       "      <td>EX</td>\n",
       "      <td>NaN</td>\n",
       "      <td>NaN</td>\n",
       "      <td>NaN</td>\n",
       "      <td>NaN</td>\n",
       "      <td>NaN</td>\n",
       "      <td>NaN</td>\n",
       "      <td>NaN</td>\n",
       "      <td>NaN</td>\n",
       "      <td>NaN</td>\n",
       "      <td>NaN</td>\n",
       "      <td>NaN</td>\n",
       "      <td>Normal</td>\n",
       "      <td>NaN</td>\n",
       "      <td>Normal</td>\n",
       "    </tr>\n",
       "    <tr>\n",
       "      <th>2</th>\n",
       "      <td>CEP Dean Candidate Campus Wide Presentation/Go...</td>\n",
       "      <td>Please use the link below to access the Zoom r...</td>\n",
       "      <td>Beth Bruce</td>\n",
       "      <td>/O=UTTYLER ORGANIZATION/OU=EXCHANGE ADMINISTRA...</td>\n",
       "      <td>EX</td>\n",
       "      <td>NaN</td>\n",
       "      <td>NaN</td>\n",
       "      <td>NaN</td>\n",
       "      <td>NaN</td>\n",
       "      <td>NaN</td>\n",
       "      <td>NaN</td>\n",
       "      <td>NaN</td>\n",
       "      <td>NaN</td>\n",
       "      <td>NaN</td>\n",
       "      <td>NaN</td>\n",
       "      <td>NaN</td>\n",
       "      <td>Normal</td>\n",
       "      <td>NaN</td>\n",
       "      <td>Normal</td>\n",
       "    </tr>\n",
       "    <tr>\n",
       "      <th>3</th>\n",
       "      <td>CEP Dean Candidate Campus Wide Presentation/Ro...</td>\n",
       "      <td>Please use the link below to access the Zoom r...</td>\n",
       "      <td>Beth Bruce</td>\n",
       "      <td>/O=UTTYLER ORGANIZATION/OU=EXCHANGE ADMINISTRA...</td>\n",
       "      <td>EX</td>\n",
       "      <td>NaN</td>\n",
       "      <td>NaN</td>\n",
       "      <td>NaN</td>\n",
       "      <td>NaN</td>\n",
       "      <td>NaN</td>\n",
       "      <td>NaN</td>\n",
       "      <td>NaN</td>\n",
       "      <td>NaN</td>\n",
       "      <td>NaN</td>\n",
       "      <td>NaN</td>\n",
       "      <td>NaN</td>\n",
       "      <td>Normal</td>\n",
       "      <td>NaN</td>\n",
       "      <td>Normal</td>\n",
       "    </tr>\n",
       "    <tr>\n",
       "      <th>4</th>\n",
       "      <td>University Appreciation Week - A Few Reminders</td>\n",
       "      <td>Hello everyone!\\r\\n\\r\\n \\r\\n\\r\\nPlease see the...</td>\n",
       "      <td>usac</td>\n",
       "      <td>/O=UTTYLER ORGANIZATION/OU=EXCHANGE ADMINISTRA...</td>\n",
       "      <td>EX</td>\n",
       "      <td>NaN</td>\n",
       "      <td>NaN</td>\n",
       "      <td>NaN</td>\n",
       "      <td>NaN</td>\n",
       "      <td>NaN</td>\n",
       "      <td>NaN</td>\n",
       "      <td>NaN</td>\n",
       "      <td>NaN</td>\n",
       "      <td>NaN</td>\n",
       "      <td>NaN</td>\n",
       "      <td>NaN</td>\n",
       "      <td>Normal</td>\n",
       "      <td>NaN</td>\n",
       "      <td>Normal</td>\n",
       "    </tr>\n",
       "    <tr>\n",
       "      <th>5</th>\n",
       "      <td>Survey invitation: New survey on CCS Customer ...</td>\n",
       "      <td>You have been invited to take the survey: CCS ...</td>\n",
       "      <td>IT Support</td>\n",
       "      <td>/O=UTTYLER ORGANIZATION/OU=EXCHANGE ADMINISTRA...</td>\n",
       "      <td>EX</td>\n",
       "      <td>Ashim Sedhain</td>\n",
       "      <td>/o=UTTyler Organization/ou=Exchange Administra...</td>\n",
       "      <td>EX</td>\n",
       "      <td>NaN</td>\n",
       "      <td>NaN</td>\n",
       "      <td>NaN</td>\n",
       "      <td>NaN</td>\n",
       "      <td>NaN</td>\n",
       "      <td>NaN</td>\n",
       "      <td>NaN</td>\n",
       "      <td>NaN</td>\n",
       "      <td>Normal</td>\n",
       "      <td>NaN</td>\n",
       "      <td>Normal</td>\n",
       "    </tr>\n",
       "  </tbody>\n",
       "</table>\n",
       "</div>"
      ],
      "text/plain": [
       "                                             Subject  \\\n",
       "1                          Preview of the May Agenda   \n",
       "2  CEP Dean Candidate Campus Wide Presentation/Go...   \n",
       "3  CEP Dean Candidate Campus Wide Presentation/Ro...   \n",
       "4     University Appreciation Week - A Few Reminders   \n",
       "5  Survey invitation: New survey on CCS Customer ...   \n",
       "\n",
       "                                                Body    From: (Name)  \\\n",
       "1  Good morning! We would like to invite you to o...  Lynette Sutter   \n",
       "2  Please use the link below to access the Zoom r...      Beth Bruce   \n",
       "3  Please use the link below to access the Zoom r...      Beth Bruce   \n",
       "4  Hello everyone!\\r\\n\\r\\n \\r\\n\\r\\nPlease see the...            usac   \n",
       "5  You have been invited to take the survey: CCS ...      IT Support   \n",
       "\n",
       "                                     From: (Address) From: (Type)  \\\n",
       "1  /O=UTTYLER ORGANIZATION/OU=EXCHANGE ADMINISTRA...           EX   \n",
       "2  /O=UTTYLER ORGANIZATION/OU=EXCHANGE ADMINISTRA...           EX   \n",
       "3  /O=UTTYLER ORGANIZATION/OU=EXCHANGE ADMINISTRA...           EX   \n",
       "4  /O=UTTYLER ORGANIZATION/OU=EXCHANGE ADMINISTRA...           EX   \n",
       "5  /O=UTTYLER ORGANIZATION/OU=EXCHANGE ADMINISTRA...           EX   \n",
       "\n",
       "      To: (Name)                                      To: (Address)  \\\n",
       "1            NaN                                                NaN   \n",
       "2            NaN                                                NaN   \n",
       "3            NaN                                                NaN   \n",
       "4            NaN                                                NaN   \n",
       "5  Ashim Sedhain  /o=UTTyler Organization/ou=Exchange Administra...   \n",
       "\n",
       "  To: (Type) CC: (Name) CC: (Address) CC: (Type)  BCC: (Name)  BCC: (Address)  \\\n",
       "1        NaN        NaN           NaN        NaN          NaN             NaN   \n",
       "2        NaN        NaN           NaN        NaN          NaN             NaN   \n",
       "3        NaN        NaN           NaN        NaN          NaN             NaN   \n",
       "4        NaN        NaN           NaN        NaN          NaN             NaN   \n",
       "5         EX        NaN           NaN        NaN          NaN             NaN   \n",
       "\n",
       "   BCC: (Type)  Billing Information  Categories Importance  Mileage  \\\n",
       "1          NaN                  NaN         NaN     Normal      NaN   \n",
       "2          NaN                  NaN         NaN     Normal      NaN   \n",
       "3          NaN                  NaN         NaN     Normal      NaN   \n",
       "4          NaN                  NaN         NaN     Normal      NaN   \n",
       "5          NaN                  NaN         NaN     Normal      NaN   \n",
       "\n",
       "  Sensitivity  \n",
       "1      Normal  \n",
       "2      Normal  \n",
       "3      Normal  \n",
       "4      Normal  \n",
       "5      Normal  "
      ]
     },
     "execution_count": 373,
     "metadata": {},
     "output_type": "execute_result"
    }
   ],
   "source": [
    "email_df.iloc[1:6]"
   ]
  },
  {
   "cell_type": "markdown",
   "metadata": {},
   "source": [
    "#### We can see that we get alot of data from the email. We will only use the subject and body of the email for the classification"
   ]
  },
  {
   "cell_type": "markdown",
   "metadata": {},
   "source": [
    "#### Dropping columns all the columns besides the \"Subject\", and \"Body\"."
   ]
  },
  {
   "cell_type": "code",
   "execution_count": 374,
   "metadata": {},
   "outputs": [],
   "source": [
    "email_df = email_df[[\"Subject\", \"Body\"]]"
   ]
  },
  {
   "cell_type": "markdown",
   "metadata": {},
   "source": [
    "#### Getting another look at the data now"
   ]
  },
  {
   "cell_type": "code",
   "execution_count": 375,
   "metadata": {},
   "outputs": [
    {
     "data": {
      "text/html": [
       "<div>\n",
       "<style scoped>\n",
       "    .dataframe tbody tr th:only-of-type {\n",
       "        vertical-align: middle;\n",
       "    }\n",
       "\n",
       "    .dataframe tbody tr th {\n",
       "        vertical-align: top;\n",
       "    }\n",
       "\n",
       "    .dataframe thead th {\n",
       "        text-align: right;\n",
       "    }\n",
       "</style>\n",
       "<table border=\"1\" class=\"dataframe\">\n",
       "  <thead>\n",
       "    <tr style=\"text-align: right;\">\n",
       "      <th></th>\n",
       "      <th>Subject</th>\n",
       "      <th>Body</th>\n",
       "    </tr>\n",
       "  </thead>\n",
       "  <tbody>\n",
       "    <tr>\n",
       "      <th>0</th>\n",
       "      <td>Your incident INC0121272 has been closed</td>\n",
       "      <td>Your incident INC0121272 has been closed. If y...</td>\n",
       "    </tr>\n",
       "    <tr>\n",
       "      <th>1</th>\n",
       "      <td>Preview of the May Agenda</td>\n",
       "      <td>Good morning! We would like to invite you to o...</td>\n",
       "    </tr>\n",
       "    <tr>\n",
       "      <th>2</th>\n",
       "      <td>CEP Dean Candidate Campus Wide Presentation/Go...</td>\n",
       "      <td>Please use the link below to access the Zoom r...</td>\n",
       "    </tr>\n",
       "    <tr>\n",
       "      <th>3</th>\n",
       "      <td>CEP Dean Candidate Campus Wide Presentation/Ro...</td>\n",
       "      <td>Please use the link below to access the Zoom r...</td>\n",
       "    </tr>\n",
       "    <tr>\n",
       "      <th>4</th>\n",
       "      <td>University Appreciation Week - A Few Reminders</td>\n",
       "      <td>Hello everyone!\\r\\n\\r\\n \\r\\n\\r\\nPlease see the...</td>\n",
       "    </tr>\n",
       "  </tbody>\n",
       "</table>\n",
       "</div>"
      ],
      "text/plain": [
       "                                             Subject  \\\n",
       "0           Your incident INC0121272 has been closed   \n",
       "1                          Preview of the May Agenda   \n",
       "2  CEP Dean Candidate Campus Wide Presentation/Go...   \n",
       "3  CEP Dean Candidate Campus Wide Presentation/Ro...   \n",
       "4     University Appreciation Week - A Few Reminders   \n",
       "\n",
       "                                                Body  \n",
       "0  Your incident INC0121272 has been closed. If y...  \n",
       "1  Good morning! We would like to invite you to o...  \n",
       "2  Please use the link below to access the Zoom r...  \n",
       "3  Please use the link below to access the Zoom r...  \n",
       "4  Hello everyone!\\r\\n\\r\\n \\r\\n\\r\\nPlease see the...  "
      ]
     },
     "execution_count": 375,
     "metadata": {},
     "output_type": "execute_result"
    }
   ],
   "source": [
    "email_df.head()"
   ]
  },
  {
   "cell_type": "markdown",
   "metadata": {},
   "source": [
    "# Cleaning the data "
   ]
  },
  {
   "cell_type": "markdown",
   "metadata": {},
   "source": [
    "#### Getting a closer look at the Body column"
   ]
  },
  {
   "cell_type": "code",
   "execution_count": 376,
   "metadata": {},
   "outputs": [
    {
     "data": {
      "text/plain": [
       "'You have been invited to take the survey: CCS Customer Satisfaction Survey. \\r\\n \\r\\nClick here to take your survey:\\r\\nhttps://uttyler.service-now.com/nav_to.do?uri=assessment_take2.do%3Fsysparm_assessable_type=4a9b211f2b0af10081807fb5a8da15d4%26sysparm_assessable_sysid=1afc56f5db5d73c8879ac3d239961920\\r\\n \\r\\nTo view your survey queue at any time, sign in and navigate to Self-Service > My Assessments & Surveys.\\r\\n \\r\\nRef:MSG1817995\\r\\n'"
      ]
     },
     "execution_count": 376,
     "metadata": {},
     "output_type": "execute_result"
    }
   ],
   "source": [
    "email_df.iloc[5, 1]"
   ]
  },
  {
   "cell_type": "markdown",
   "metadata": {},
   "source": [
    "#### We can see the body has a lot of data which needs to be cleaned and parsed."
   ]
  },
  {
   "cell_type": "markdown",
   "metadata": {},
   "source": [
    "#### Whenever a ticket is submitted, the ticket contains the information about the person who submitted the ticket, subject and body. We will extract the category, which we are trying to predict, the body, and the subject."
   ]
  },
  {
   "cell_type": "markdown",
   "metadata": {},
   "source": [
    "#### Extracting the category from the Body text"
   ]
  },
  {
   "cell_type": "code",
   "execution_count": 377,
   "metadata": {},
   "outputs": [],
   "source": [
    "email_df[\"Category\"]= email_df[\"Body\"].str.extract(r\"Category: (\\w+ ?\\w+)\\r\")"
   ]
  },
  {
   "cell_type": "markdown",
   "metadata": {},
   "source": [
    "#### Extracting Short Descriptions from the Body"
   ]
  },
  {
   "cell_type": "code",
   "execution_count": 378,
   "metadata": {},
   "outputs": [],
   "source": [
    "email_df[\"Short Description\"] = email_df[\"Body\"].str.extract(r\"Short Description: (.+)\\r\")"
   ]
  },
  {
   "cell_type": "markdown",
   "metadata": {},
   "source": [
    "#### Extracting Additional comments from the Body text"
   ]
  },
  {
   "cell_type": "code",
   "execution_count": 379,
   "metadata": {},
   "outputs": [],
   "source": [
    "email_df[\"Additional Comments\"] = email_df[\"Body\"].str.extract(r\"Additional comments\\r\\nreceived from:(.+)Ref\", flags = re.DOTALL)"
   ]
  },
  {
   "cell_type": "markdown",
   "metadata": {},
   "source": [
    "#### Removing all the rows that do not have a Category and Short Description as these are emails that did not contain ticket related information"
   ]
  },
  {
   "cell_type": "code",
   "execution_count": 380,
   "metadata": {},
   "outputs": [],
   "source": [
    "email_df.dropna(subset = [\"Category\", \"Short Description\"], inplace = True)"
   ]
  },
  {
   "cell_type": "markdown",
   "metadata": {},
   "source": [
    "#### We will look at the shape to count the number of observation."
   ]
  },
  {
   "cell_type": "code",
   "execution_count": 381,
   "metadata": {},
   "outputs": [
    {
     "data": {
      "text/plain": [
       "(4418, 5)"
      ]
     },
     "execution_count": 381,
     "metadata": {},
     "output_type": "execute_result"
    }
   ],
   "source": [
    "email_df.shape"
   ]
  },
  {
   "cell_type": "markdown",
   "metadata": {},
   "source": [
    "#### We will look at the our dataframe."
   ]
  },
  {
   "cell_type": "code",
   "execution_count": 382,
   "metadata": {},
   "outputs": [
    {
     "data": {
      "text/html": [
       "<div>\n",
       "<style scoped>\n",
       "    .dataframe tbody tr th:only-of-type {\n",
       "        vertical-align: middle;\n",
       "    }\n",
       "\n",
       "    .dataframe tbody tr th {\n",
       "        vertical-align: top;\n",
       "    }\n",
       "\n",
       "    .dataframe thead th {\n",
       "        text-align: right;\n",
       "    }\n",
       "</style>\n",
       "<table border=\"1\" class=\"dataframe\">\n",
       "  <thead>\n",
       "    <tr style=\"text-align: right;\">\n",
       "      <th></th>\n",
       "      <th>Subject</th>\n",
       "      <th>Body</th>\n",
       "      <th>Category</th>\n",
       "      <th>Short Description</th>\n",
       "      <th>Additional Comments</th>\n",
       "    </tr>\n",
       "  </thead>\n",
       "  <tbody>\n",
       "    <tr>\n",
       "      <th>6</th>\n",
       "      <td>Your incident INC0121272 has been resolved due...</td>\n",
       "      <td>Due to no customer response your incident INC0...</td>\n",
       "      <td>Account</td>\n",
       "      <td>Ashim Sedhain - credential pick up</td>\n",
       "      <td>NaN</td>\n",
       "    </tr>\n",
       "    <tr>\n",
       "      <th>41</th>\n",
       "      <td>Incident INC0122904 has been assigned to group...</td>\n",
       "      <td>Short Description: Engineering office moves\\r\\...</td>\n",
       "      <td>Hardware</td>\n",
       "      <td>Engineering office moves</td>\n",
       "      <td>KatrinaSmith@uttyler.edu\\r\\n \\r\\nMichael,  \\r...</td>\n",
       "    </tr>\n",
       "    <tr>\n",
       "      <th>42</th>\n",
       "      <td>Incident INC0122638 has been assigned to group...</td>\n",
       "      <td>Short Description: EVGA UV Plus - Multi-Screen...</td>\n",
       "      <td>Quotes</td>\n",
       "      <td>EVGA UV Plus - Multi-Screen expansion</td>\n",
       "      <td>rpeterson@uttyler.edu\\r\\n \\r\\nBefore I purcha...</td>\n",
       "    </tr>\n",
       "    <tr>\n",
       "      <th>44</th>\n",
       "      <td>Incident INC0122888 has been assigned to group...</td>\n",
       "      <td>Short Description: Printers \\r\\nClick here to ...</td>\n",
       "      <td>Hardware</td>\n",
       "      <td>Printers</td>\n",
       "      <td>sbouis@uttyler.edu\\r\\n \\r\\nPlease help us dis...</td>\n",
       "    </tr>\n",
       "    <tr>\n",
       "      <th>45</th>\n",
       "      <td>Incident INC0122885 has been assigned to group...</td>\n",
       "      <td>Short Description: Event Reservation #20190522...</td>\n",
       "      <td>Classroom Technology</td>\n",
       "      <td>Event Reservation #20190522-00016: Resource St...</td>\n",
       "      <td>Astraemail@uttyler.edu\\r\\n \\r\\n \\r\\n</td>\n",
       "    </tr>\n",
       "  </tbody>\n",
       "</table>\n",
       "</div>"
      ],
      "text/plain": [
       "                                              Subject  \\\n",
       "6   Your incident INC0121272 has been resolved due...   \n",
       "41  Incident INC0122904 has been assigned to group...   \n",
       "42  Incident INC0122638 has been assigned to group...   \n",
       "44  Incident INC0122888 has been assigned to group...   \n",
       "45  Incident INC0122885 has been assigned to group...   \n",
       "\n",
       "                                                 Body              Category  \\\n",
       "6   Due to no customer response your incident INC0...               Account   \n",
       "41  Short Description: Engineering office moves\\r\\...              Hardware   \n",
       "42  Short Description: EVGA UV Plus - Multi-Screen...                Quotes   \n",
       "44  Short Description: Printers \\r\\nClick here to ...              Hardware   \n",
       "45  Short Description: Event Reservation #20190522...  Classroom Technology   \n",
       "\n",
       "                                    Short Description  \\\n",
       "6                  Ashim Sedhain - credential pick up   \n",
       "41                           Engineering office moves   \n",
       "42              EVGA UV Plus - Multi-Screen expansion   \n",
       "44                                          Printers    \n",
       "45  Event Reservation #20190522-00016: Resource St...   \n",
       "\n",
       "                                  Additional Comments  \n",
       "6                                                 NaN  \n",
       "41   KatrinaSmith@uttyler.edu\\r\\n \\r\\nMichael,  \\r...  \n",
       "42   rpeterson@uttyler.edu\\r\\n \\r\\nBefore I purcha...  \n",
       "44   sbouis@uttyler.edu\\r\\n \\r\\nPlease help us dis...  \n",
       "45               Astraemail@uttyler.edu\\r\\n \\r\\n \\r\\n  "
      ]
     },
     "execution_count": 382,
     "metadata": {},
     "output_type": "execute_result"
    }
   ],
   "source": [
    "email_df.head()"
   ]
  },
  {
   "cell_type": "markdown",
   "metadata": {},
   "source": [
    "#### We will need to drop emails not containing the phrase \"We have moved your support ticket\" as these are the only ones that have been categorized by the ccs"
   ]
  },
  {
   "cell_type": "code",
   "execution_count": 383,
   "metadata": {},
   "outputs": [],
   "source": [
    "filt = email_df[\"Body\"].str.contains(\"We have moved your support ticket\")\n",
    "email_df.drop(email_df.loc[~filt].index, inplace = True)"
   ]
  },
  {
   "cell_type": "markdown",
   "metadata": {},
   "source": [
    "#### A side note: There are dublicate tickets which will not be present in the final production and thus need to be removed from our sample"
   ]
  },
  {
   "cell_type": "markdown",
   "metadata": {},
   "source": [
    "#### Extracting the incident number"
   ]
  },
  {
   "cell_type": "code",
   "execution_count": 384,
   "metadata": {},
   "outputs": [],
   "source": [
    "email_df[\"Incident Number\"] = email_df[\"Subject\"].str.extract(r\"INC(\\d+) \")"
   ]
  },
  {
   "cell_type": "markdown",
   "metadata": {},
   "source": [
    "#### We will only keep the short description and additional comments as this will only be the available data for us in production."
   ]
  },
  {
   "cell_type": "code",
   "execution_count": 385,
   "metadata": {},
   "outputs": [],
   "source": [
    "email_df.drop([\"Subject\", \"Body\"], axis = 1, inplace = True)"
   ]
  },
  {
   "cell_type": "code",
   "execution_count": 386,
   "metadata": {},
   "outputs": [
    {
     "data": {
      "text/html": [
       "<div>\n",
       "<style scoped>\n",
       "    .dataframe tbody tr th:only-of-type {\n",
       "        vertical-align: middle;\n",
       "    }\n",
       "\n",
       "    .dataframe tbody tr th {\n",
       "        vertical-align: top;\n",
       "    }\n",
       "\n",
       "    .dataframe thead th {\n",
       "        text-align: right;\n",
       "    }\n",
       "</style>\n",
       "<table border=\"1\" class=\"dataframe\">\n",
       "  <thead>\n",
       "    <tr style=\"text-align: right;\">\n",
       "      <th></th>\n",
       "      <th>Category</th>\n",
       "      <th>Short Description</th>\n",
       "      <th>Additional Comments</th>\n",
       "      <th>Incident Number</th>\n",
       "    </tr>\n",
       "  </thead>\n",
       "  <tbody>\n",
       "    <tr>\n",
       "      <th>41</th>\n",
       "      <td>Hardware</td>\n",
       "      <td>Engineering office moves</td>\n",
       "      <td>KatrinaSmith@uttyler.edu\\r\\n \\r\\nMichael,  \\r...</td>\n",
       "      <td>0122904</td>\n",
       "    </tr>\n",
       "    <tr>\n",
       "      <th>42</th>\n",
       "      <td>Quotes</td>\n",
       "      <td>EVGA UV Plus - Multi-Screen expansion</td>\n",
       "      <td>rpeterson@uttyler.edu\\r\\n \\r\\nBefore I purcha...</td>\n",
       "      <td>0122638</td>\n",
       "    </tr>\n",
       "    <tr>\n",
       "      <th>44</th>\n",
       "      <td>Hardware</td>\n",
       "      <td>Printers</td>\n",
       "      <td>sbouis@uttyler.edu\\r\\n \\r\\nPlease help us dis...</td>\n",
       "      <td>0122888</td>\n",
       "    </tr>\n",
       "    <tr>\n",
       "      <th>46</th>\n",
       "      <td>Account</td>\n",
       "      <td>Access to previous compliance folders</td>\n",
       "      <td>NaN</td>\n",
       "      <td>0122872</td>\n",
       "    </tr>\n",
       "    <tr>\n",
       "      <th>47</th>\n",
       "      <td>Software</td>\n",
       "      <td>Adobe Flash Player installation</td>\n",
       "      <td>TArtley@uttyler.edu\\r\\n \\r\\nGood Afternoon, \\...</td>\n",
       "      <td>0122883</td>\n",
       "    </tr>\n",
       "  </tbody>\n",
       "</table>\n",
       "</div>"
      ],
      "text/plain": [
       "    Category                      Short Description  \\\n",
       "41  Hardware               Engineering office moves   \n",
       "42    Quotes  EVGA UV Plus - Multi-Screen expansion   \n",
       "44  Hardware                              Printers    \n",
       "46   Account  Access to previous compliance folders   \n",
       "47  Software        Adobe Flash Player installation   \n",
       "\n",
       "                                  Additional Comments Incident Number  \n",
       "41   KatrinaSmith@uttyler.edu\\r\\n \\r\\nMichael,  \\r...         0122904  \n",
       "42   rpeterson@uttyler.edu\\r\\n \\r\\nBefore I purcha...         0122638  \n",
       "44   sbouis@uttyler.edu\\r\\n \\r\\nPlease help us dis...         0122888  \n",
       "46                                                NaN         0122872  \n",
       "47   TArtley@uttyler.edu\\r\\n \\r\\nGood Afternoon, \\...         0122883  "
      ]
     },
     "execution_count": 386,
     "metadata": {},
     "output_type": "execute_result"
    }
   ],
   "source": [
    "email_df.head()"
   ]
  },
  {
   "cell_type": "markdown",
   "metadata": {},
   "source": [
    "#### A closer look at additional comments"
   ]
  },
  {
   "cell_type": "code",
   "execution_count": 387,
   "metadata": {},
   "outputs": [
    {
     "data": {
      "text/plain": [
       "41     KatrinaSmith@uttyler.edu\\r\\n \\r\\nMichael,  \\r...\n",
       "42     rpeterson@uttyler.edu\\r\\n \\r\\nBefore I purcha...\n",
       "44     sbouis@uttyler.edu\\r\\n \\r\\nPlease help us dis...\n",
       "46                                                  NaN\n",
       "47     TArtley@uttyler.edu\\r\\n \\r\\nGood Afternoon, \\...\n",
       "Name: Additional Comments, dtype: object"
      ]
     },
     "execution_count": 387,
     "metadata": {},
     "output_type": "execute_result"
    }
   ],
   "source": [
    "email_df[\"Additional Comments\"].head()"
   ]
  },
  {
   "cell_type": "markdown",
   "metadata": {},
   "source": [
    "#### We can see that the Additional Comments needs to be further cleaned."
   ]
  },
  {
   "cell_type": "markdown",
   "metadata": {},
   "source": [
    "#### We will replace all the new line characters."
   ]
  },
  {
   "cell_type": "code",
   "execution_count": 388,
   "metadata": {},
   "outputs": [],
   "source": [
    "email_df[\"Additional Comments mod\"] = email_df[\"Additional Comments\"].str.replace(r\"\\r|\\n\", \"\", regex = True)"
   ]
  },
  {
   "cell_type": "code",
   "execution_count": 389,
   "metadata": {},
   "outputs": [],
   "source": [
    "email_df[\"Additional Comments mod\"] = email_df[\"Additional Comments mod\"].str.replace(r\"\\w+@\\w+\\.(edu)|(com)\", \"\")"
   ]
  },
  {
   "cell_type": "code",
   "execution_count": 390,
   "metadata": {},
   "outputs": [
    {
     "data": {
      "text/plain": [
       "41      Michael,   WE have some faculty moving offic...\n",
       "42      Before I purchase a new EVGA UV Plus device ...\n",
       "44      Please help us disconnect all desktop printe...\n",
       "46                                                  NaN\n",
       "47      Good Afternoon,  I need to have adobe flash ...\n",
       "Name: Additional Comments mod, dtype: object"
      ]
     },
     "execution_count": 390,
     "metadata": {},
     "output_type": "execute_result"
    }
   ],
   "source": [
    "email_df[\"Additional Comments mod\"].head()"
   ]
  },
  {
   "cell_type": "markdown",
   "metadata": {},
   "source": [
    "#### We will concatenate the Short Description and Additional Comments field to get the Feature which will be used for the final classification."
   ]
  },
  {
   "cell_type": "code",
   "execution_count": 391,
   "metadata": {},
   "outputs": [],
   "source": [
    "email_df[\"Feature\"] = email_df[\"Short Description\"].str.cat(email_df[\"Additional Comments mod\"], sep = ' ')"
   ]
  },
  {
   "cell_type": "code",
   "execution_count": 392,
   "metadata": {},
   "outputs": [],
   "source": [
    "email_df[\"Feature\"].fillna(value = email_df[\"Short Description\"], inplace = True)"
   ]
  },
  {
   "cell_type": "code",
   "execution_count": 393,
   "metadata": {},
   "outputs": [
    {
     "name": "stdout",
     "output_type": "stream",
     "text": [
      "Total number of unique emails: 2454\n"
     ]
    }
   ],
   "source": [
    "print(f\"Total number of unique emails: {email_df['Incident Number'].unique().size}\")"
   ]
  },
  {
   "cell_type": "code",
   "execution_count": 394,
   "metadata": {
    "scrolled": true
   },
   "outputs": [
    {
     "name": "stdout",
     "output_type": "stream",
     "text": [
      "Total number of incidents: 2603\n"
     ]
    }
   ],
   "source": [
    "print(f\"Total number of incidents: {email_df['Incident Number'].size}\")"
   ]
  },
  {
   "cell_type": "markdown",
   "metadata": {},
   "source": [
    "#### There seems to be dublicate incidents which need to be removed"
   ]
  },
  {
   "cell_type": "markdown",
   "metadata": {},
   "source": [
    "## We will now look at our data and perfrom a simple data analysis"
   ]
  },
  {
   "cell_type": "markdown",
   "metadata": {},
   "source": [
    "####  Lets look at the historgram of the lables"
   ]
  },
  {
   "cell_type": "code",
   "execution_count": 395,
   "metadata": {},
   "outputs": [
    {
     "data": {
      "image/png": "[encoded data removed]",
      "text/plain": [
       "<Figure size 432x288 with 1 Axes>"
      ]
     },
     "metadata": {
      "needs_background": "light"
     },
     "output_type": "display_data"
    }
   ],
   "source": [
    "ax = sns.countplot(\"Category\", data = email_df)\n",
    "ax = ax.set_xticklabels(ax.get_xticklabels(),rotation=90)"
   ]
  },
  {
   "cell_type": "markdown",
   "metadata": {},
   "source": [
    "#### Seeing the ratio of each class"
   ]
  },
  {
   "cell_type": "code",
   "execution_count": 396,
   "metadata": {},
   "outputs": [
    {
     "data": {
      "text/plain": [
       "Software                66.384940\n",
       "Hardware                18.555513\n",
       "Quotes                   5.224741\n",
       "Account                  5.186323\n",
       "Classroom Technology     4.341145\n",
       "Questions                0.153669\n",
       "Delete                   0.076834\n",
       "None                     0.076834\n",
       "Name: Category, dtype: float64"
      ]
     },
     "execution_count": 396,
     "metadata": {},
     "output_type": "execute_result"
    }
   ],
   "source": [
    "email_df[\"Category\"].value_counts()*100/email_df[\"Category\"].size"
   ]
  },
  {
   "cell_type": "markdown",
   "metadata": {},
   "source": [
    "#### We can see that the categories are heavly imbalanced. We will need to account for the imbalance."
   ]
  },
  {
   "cell_type": "markdown",
   "metadata": {},
   "source": [
    "#### Lets look at the length of all the tickets and see if we can use that as a feature."
   ]
  },
  {
   "cell_type": "code",
   "execution_count": 397,
   "metadata": {},
   "outputs": [],
   "source": [
    "email_df[\"Feature Length\"] = email_df[\"Feature\"].str.len()"
   ]
  },
  {
   "cell_type": "code",
   "execution_count": 398,
   "metadata": {},
   "outputs": [
    {
     "data": {
      "text/html": [
       "<div>\n",
       "<style scoped>\n",
       "    .dataframe tbody tr th:only-of-type {\n",
       "        vertical-align: middle;\n",
       "    }\n",
       "\n",
       "    .dataframe tbody tr th {\n",
       "        vertical-align: top;\n",
       "    }\n",
       "\n",
       "    .dataframe thead th {\n",
       "        text-align: right;\n",
       "    }\n",
       "</style>\n",
       "<table border=\"1\" class=\"dataframe\">\n",
       "  <thead>\n",
       "    <tr style=\"text-align: right;\">\n",
       "      <th></th>\n",
       "      <th>Feature Length</th>\n",
       "    </tr>\n",
       "    <tr>\n",
       "      <th>Category</th>\n",
       "      <th></th>\n",
       "    </tr>\n",
       "  </thead>\n",
       "  <tbody>\n",
       "    <tr>\n",
       "      <th>Account</th>\n",
       "      <td>332.437037</td>\n",
       "    </tr>\n",
       "    <tr>\n",
       "      <th>Classroom Technology</th>\n",
       "      <td>485.548673</td>\n",
       "    </tr>\n",
       "    <tr>\n",
       "      <th>Delete</th>\n",
       "      <td>1057.000000</td>\n",
       "    </tr>\n",
       "    <tr>\n",
       "      <th>Hardware</th>\n",
       "      <td>364.956522</td>\n",
       "    </tr>\n",
       "    <tr>\n",
       "      <th>None</th>\n",
       "      <td>49.500000</td>\n",
       "    </tr>\n",
       "    <tr>\n",
       "      <th>Questions</th>\n",
       "      <td>1124.500000</td>\n",
       "    </tr>\n",
       "    <tr>\n",
       "      <th>Quotes</th>\n",
       "      <td>756.441176</td>\n",
       "    </tr>\n",
       "    <tr>\n",
       "      <th>Software</th>\n",
       "      <td>540.021412</td>\n",
       "    </tr>\n",
       "  </tbody>\n",
       "</table>\n",
       "</div>"
      ],
      "text/plain": [
       "                      Feature Length\n",
       "Category                            \n",
       "Account                   332.437037\n",
       "Classroom Technology      485.548673\n",
       "Delete                   1057.000000\n",
       "Hardware                  364.956522\n",
       "None                       49.500000\n",
       "Questions                1124.500000\n",
       "Quotes                    756.441176\n",
       "Software                  540.021412"
      ]
     },
     "execution_count": 398,
     "metadata": {},
     "output_type": "execute_result"
    }
   ],
   "source": [
    "gk = email_df.groupby(\"Category\")\n",
    "gk.mean()"
   ]
  },
  {
   "cell_type": "code",
   "execution_count": 399,
   "metadata": {},
   "outputs": [
    {
     "data": {
      "image/png": "[encoded data removed]",
      "text/plain": [
       "<Figure size 432x288 with 1 Axes>"
      ]
     },
     "metadata": {
      "needs_background": "light"
     },
     "output_type": "display_data"
    }
   ],
   "source": [
    "ax = sns.barplot(x = \"Category\", y = \"Feature Length\", data = email_df)\n",
    "ax.tick_params(labelrotation=90)"
   ]
  },
  {
   "cell_type": "markdown",
   "metadata": {},
   "source": [
    "#### We will be using length as a feature as well."
   ]
  },
  {
   "cell_type": "markdown",
   "metadata": {},
   "source": [
    "## Modeling"
   ]
  },
  {
   "cell_type": "markdown",
   "metadata": {},
   "source": [
    "#### Converting the classes into numerical representation"
   ]
  },
  {
   "cell_type": "code",
   "execution_count": 400,
   "metadata": {},
   "outputs": [],
   "source": [
    "dic = {i:j for i, j in zip(email_df[\"Category\"].unique(), range(len(email_df[\"Category\"].unique())))}"
   ]
  },
  {
   "cell_type": "code",
   "execution_count": 401,
   "metadata": {},
   "outputs": [],
   "source": [
    "email_df[\"Targets\"] = email_df[\"Category\"].map(dic)"
   ]
  },
  {
   "cell_type": "markdown",
   "metadata": {},
   "source": [
    "#### Looking at our data and seeing where we are."
   ]
  },
  {
   "cell_type": "code",
   "execution_count": 402,
   "metadata": {},
   "outputs": [
    {
     "data": {
      "text/html": [
       "<div>\n",
       "<style scoped>\n",
       "    .dataframe tbody tr th:only-of-type {\n",
       "        vertical-align: middle;\n",
       "    }\n",
       "\n",
       "    .dataframe tbody tr th {\n",
       "        vertical-align: top;\n",
       "    }\n",
       "\n",
       "    .dataframe thead th {\n",
       "        text-align: right;\n",
       "    }\n",
       "</style>\n",
       "<table border=\"1\" class=\"dataframe\">\n",
       "  <thead>\n",
       "    <tr style=\"text-align: right;\">\n",
       "      <th></th>\n",
       "      <th>Feature</th>\n",
       "      <th>Category</th>\n",
       "      <th>Targets</th>\n",
       "    </tr>\n",
       "  </thead>\n",
       "  <tbody>\n",
       "    <tr>\n",
       "      <th>41</th>\n",
       "      <td>Engineering office moves   Michael,   WE have ...</td>\n",
       "      <td>Hardware</td>\n",
       "      <td>0</td>\n",
       "    </tr>\n",
       "    <tr>\n",
       "      <th>42</th>\n",
       "      <td>EVGA UV Plus - Multi-Screen expansion   Before...</td>\n",
       "      <td>Quotes</td>\n",
       "      <td>1</td>\n",
       "    </tr>\n",
       "    <tr>\n",
       "      <th>44</th>\n",
       "      <td>Printers    Please help us disconnect all desk...</td>\n",
       "      <td>Hardware</td>\n",
       "      <td>0</td>\n",
       "    </tr>\n",
       "    <tr>\n",
       "      <th>46</th>\n",
       "      <td>Access to previous compliance folders</td>\n",
       "      <td>Account</td>\n",
       "      <td>2</td>\n",
       "    </tr>\n",
       "    <tr>\n",
       "      <th>47</th>\n",
       "      <td>Adobe Flash Player installation   Good Afterno...</td>\n",
       "      <td>Software</td>\n",
       "      <td>3</td>\n",
       "    </tr>\n",
       "  </tbody>\n",
       "</table>\n",
       "</div>"
      ],
      "text/plain": [
       "                                              Feature  Category  Targets\n",
       "41  Engineering office moves   Michael,   WE have ...  Hardware        0\n",
       "42  EVGA UV Plus - Multi-Screen expansion   Before...    Quotes        1\n",
       "44  Printers    Please help us disconnect all desk...  Hardware        0\n",
       "46              Access to previous compliance folders   Account        2\n",
       "47  Adobe Flash Player installation   Good Afterno...  Software        3"
      ]
     },
     "execution_count": 402,
     "metadata": {},
     "output_type": "execute_result"
    }
   ],
   "source": [
    "email_df[[\"Feature\", \"Category\",\"Targets\"]].head()"
   ]
  },
  {
   "cell_type": "markdown",
   "metadata": {},
   "source": [
    "#### We will only be using the Feature column for our classification."
   ]
  },
  {
   "cell_type": "code",
   "execution_count": 498,
   "metadata": {},
   "outputs": [],
   "source": [
    "X = email_df[[\"Feature\", \"Feature Length\"]]\n",
    "# X = email_df[\"Feature\"]\n",
    "y = email_df[\"Targets\"]"
   ]
  },
  {
   "cell_type": "markdown",
   "metadata": {},
   "source": [
    "#### Spliting the data for training and testing"
   ]
  },
  {
   "cell_type": "code",
   "execution_count": 499,
   "metadata": {},
   "outputs": [],
   "source": [
    "x_train, x_test, y_train, y_test = train_test_split(X, y, random_state = 0)"
   ]
  },
  {
   "cell_type": "code",
   "execution_count": 500,
   "metadata": {},
   "outputs": [
    {
     "data": {
      "text/plain": [
       "5002    COB 251   Hello, The sound and microphone as w...\n",
       "586     Need help with Outlook Calendar   Hi Guys! I n...\n",
       "1077    FW: PO for Adobe Acrobat Pro   Im not sure if...\n",
       "4866    FW: Adobe Acrobat PRO   Hello, I was sent the ...\n",
       "1762                          Virtual Desktop not working\n",
       "Name: Feature, dtype: object"
      ]
     },
     "execution_count": 500,
     "metadata": {},
     "output_type": "execute_result"
    }
   ],
   "source": [
    "x_train[\"Feature\"].head()"
   ]
  },
  {
   "cell_type": "markdown",
   "metadata": {},
   "source": [
    "#### Fitting the CountVectorizer to the training data"
   ]
  },
  {
   "cell_type": "code",
   "execution_count": 501,
   "metadata": {},
   "outputs": [],
   "source": [
    "# vect = CountVectorizer(ngram_range= (1,2), stop_words = \"english\")\n",
    "vect = TfidfVectorizer(ngram_range = (1, 2), stop_words = \"english\", max_df = 0.8, min_df = 0.0006)"
   ]
  },
  {
   "cell_type": "code",
   "execution_count": 502,
   "metadata": {},
   "outputs": [],
   "source": [
    "vect = vect.fit(x_train[\"Feature\"])"
   ]
  },
  {
   "cell_type": "markdown",
   "metadata": {},
   "source": [
    "#### We can see how many features we have."
   ]
  },
  {
   "cell_type": "code",
   "execution_count": 503,
   "metadata": {},
   "outputs": [
    {
     "data": {
      "text/plain": [
       "14135"
      ]
     },
     "execution_count": 503,
     "metadata": {},
     "output_type": "execute_result"
    }
   ],
   "source": [
    "len(vect.get_feature_names())"
   ]
  },
  {
   "cell_type": "markdown",
   "metadata": {},
   "source": [
    "####  Minmax scaler for the length feature"
   ]
  },
  {
   "cell_type": "code",
   "execution_count": 504,
   "metadata": {},
   "outputs": [],
   "source": [
    "scaler = MaxAbsScaler()"
   ]
  },
  {
   "cell_type": "code",
   "execution_count": 505,
   "metadata": {},
   "outputs": [
    {
     "data": {
      "text/plain": [
       "MaxAbsScaler(copy=True)"
      ]
     },
     "execution_count": 505,
     "metadata": {},
     "output_type": "execute_result"
    }
   ],
   "source": [
    "scaler.fit(x_train[\"Feature Length\"].to_numpy().reshape(-1, 1))"
   ]
  },
  {
   "cell_type": "markdown",
   "metadata": {},
   "source": [
    "#### Helper function for transforming data"
   ]
  },
  {
   "cell_type": "code",
   "execution_count": 506,
   "metadata": {},
   "outputs": [],
   "source": [
    "def trans(x):\n",
    "    x_temp_f = vect.transform(x[\"Feature\"])\n",
    "    x_temp_l = scaler.transform(x[\"Feature Length\"].to_numpy().reshape(-1, 1))\n",
    "    return sc.sparse.hstack([x_temp_f, x_temp_l])\n",
    "#     return x_temp_f"
   ]
  },
  {
   "cell_type": "code",
   "execution_count": 507,
   "metadata": {},
   "outputs": [
    {
     "data": {
      "text/plain": [
       "<1952x14136 sparse matrix of type '<class 'numpy.float64'>'\n",
       "\twith 109830 stored elements in COOrdinate format>"
      ]
     },
     "execution_count": 507,
     "metadata": {},
     "output_type": "execute_result"
    }
   ],
   "source": [
    "trans(x_train)"
   ]
  },
  {
   "cell_type": "markdown",
   "metadata": {},
   "source": [
    "#### Transforming our training data into a sparse matrix"
   ]
  },
  {
   "cell_type": "code",
   "execution_count": 508,
   "metadata": {},
   "outputs": [],
   "source": [
    "x_train_vec = trans(x_train)"
   ]
  },
  {
   "cell_type": "code",
   "execution_count": 509,
   "metadata": {},
   "outputs": [
    {
     "data": {
      "text/plain": [
       "<1952x14136 sparse matrix of type '<class 'numpy.float64'>'\n",
       "\twith 109830 stored elements in COOrdinate format>"
      ]
     },
     "execution_count": 509,
     "metadata": {},
     "output_type": "execute_result"
    }
   ],
   "source": [
    "x_train_vec"
   ]
  },
  {
   "cell_type": "code",
   "execution_count": 510,
   "metadata": {},
   "outputs": [
    {
     "data": {
      "text/plain": [
       "(1952, 14136)"
      ]
     },
     "execution_count": 510,
     "metadata": {},
     "output_type": "execute_result"
    }
   ],
   "source": [
    "x_train_vec.shape"
   ]
  },
  {
   "cell_type": "markdown",
   "metadata": {},
   "source": [
    "## Classification"
   ]
  },
  {
   "cell_type": "markdown",
   "metadata": {},
   "source": [
    "#### We will create multiple models and compare there performance."
   ]
  },
  {
   "cell_type": "markdown",
   "metadata": {},
   "source": [
    "#### Supervised Learning"
   ]
  },
  {
   "cell_type": "code",
   "execution_count": 691,
   "metadata": {},
   "outputs": [],
   "source": [
    "logistic_clf = LogisticRegression(multi_class = \"multinomial\", solver = \"lbfgs\", random_state = 0, max_iter = 10000, C = 0.1)"
   ]
  },
  {
   "cell_type": "code",
   "execution_count": 692,
   "metadata": {},
   "outputs": [],
   "source": [
    "naive_clf = MultinomialNB(alpha=0.1)"
   ]
  },
  {
   "cell_type": "code",
   "execution_count": 693,
   "metadata": {},
   "outputs": [],
   "source": [
    "svm_clf = svm.SVC(gamma = 1, random_state = 0, kernel = \"linear\", max_iter = 10000)"
   ]
  },
  {
   "cell_type": "code",
   "execution_count": 694,
   "metadata": {},
   "outputs": [],
   "source": [
    "knn_clf = KNeighborsClassifier(n_neighbors=30)"
   ]
  },
  {
   "cell_type": "code",
   "execution_count": 695,
   "metadata": {},
   "outputs": [],
   "source": [
    "rf_clf = RandomForestClassifier(n_estimators=40, max_depth=6,random_state=0)"
   ]
  },
  {
   "cell_type": "code",
   "execution_count": 696,
   "metadata": {},
   "outputs": [],
   "source": [
    "gb_clf = GradientBoostingClassifier(n_estimators = 25, max_depth = 5, random_state = 0)"
   ]
  },
  {
   "cell_type": "code",
   "execution_count": 697,
   "metadata": {},
   "outputs": [],
   "source": [
    "clf = [logistic_clf, naive_clf, svm_clf, knn_clf, rf_clf, gb_clf]\n",
    "\n",
    "clf_dic = [\"Logistic\", \"Naive\", \"SVM\", \"KNN\", \"RandomForest\", \"GradientBoosting\"]"
   ]
  },
  {
   "cell_type": "code",
   "execution_count": 698,
   "metadata": {},
   "outputs": [
    {
     "name": "stdout",
     "output_type": "stream",
     "text": [
      "......"
     ]
    }
   ],
   "source": [
    "for i in clf:\n",
    "    i.fit(x_train_vec, y_train)\n",
    "    print(\".\", end = \"\")"
   ]
  },
  {
   "cell_type": "markdown",
   "metadata": {},
   "source": [
    "#### Looking at the f1 score of each classifier"
   ]
  },
  {
   "cell_type": "code",
   "execution_count": 699,
   "metadata": {},
   "outputs": [
    {
     "name": "stdout",
     "output_type": "stream",
     "text": [
      "Logistic: 0.6820276497695853\n",
      "Naive: 0.7434715821812596\n",
      "SVM: 0.7926267281105991\n",
      "KNN: 0.7526881720430108\n",
      "RandomForest: 0.6758832565284179\n",
      "GradientBoosting: 0.7864823348694316\n"
     ]
    }
   ],
   "source": [
    "x_test_vec = trans(x_test)\n",
    "for i,j in zip(clf_dic, clf):\n",
    "    print(f\"{i}: {accuracy_score(j.predict(x_test_vec), y_test)}\")\n",
    "#     print(f\"{i}: {precision_score(j.predict(x_test_vec), y_test, average = 'micro')}\")\n",
    "#     print(f\"{i}: {j.score(x_test_vec, y_test)}\")"
   ]
  },
  {
   "cell_type": "markdown",
   "metadata": {},
   "source": [
    "#### We will look at the top features from each of the classifiers"
   ]
  },
  {
   "cell_type": "code",
   "execution_count": 676,
   "metadata": {},
   "outputs": [],
   "source": [
    "def show_top10(classifier, vectorizer, categories):\n",
    "    feature_names = np.asarray(vectorizer.get_feature_names())\n",
    "    for i, category in enumerate(categories):\n",
    "        top10 = np.argsort(classifier.coef_[i])[-10:]\n",
    "        top10 =np.where(top10==feature_names.shape[0], feature_names.shape[0]-1, top10)\n",
    "#         print(feature_names.shape[0])\n",
    "        print(\"%s: %s\" % (category, \" \".join(feature_names[top10])))"
   ]
  },
  {
   "cell_type": "code",
   "execution_count": 677,
   "metadata": {},
   "outputs": [
    {
     "name": "stdout",
     "output_type": "stream",
     "text": [
      "Hardware: monitor monitors new printer office cas new set print disposal printer\n",
      "Quotes: university adobe acrobat dell acrobat acrobat pro purchase hp pro order quote\n",
      "Account: issue account issue employee password email pw reset pw reset account change\n",
      "Software: zulma trujillo prb0040880 docusign drive shared imagenow outlook image myuttyler access\n",
      "Classroom Technology: rbn board speakers smart smart board hate projector working sound working projector\n",
      "None: borrow surface pros temporarily borrow monitor dakota request monitor temporarily request borrow mathematic mathematic dept pros mathematic\n",
      "Questions: student email write read write sar write goal goal student email address email address\n",
      "Delete: check thank 903 730 stated uttua turned power puter shut 730 3988 3988 did require login\n"
     ]
    }
   ],
   "source": [
    "show_top10(logistic_clf, vect, email_df[\"Category\"].unique())"
   ]
  },
  {
   "cell_type": "code",
   "execution_count": 678,
   "metadata": {},
   "outputs": [
    {
     "name": "stdout",
     "output_type": "stream",
     "text": [
      "Hardware: need computer texas new office tyler zulma trujillo university 903 printer\n",
      "Quotes: purchase texas hp tyler university 903 order pro zulma trujillo quote\n",
      "Account: patriots password log issue pw reset email pw reset account change\n",
      "Software: www computer university uttyler edu tyler edu 903 uttyler access zulma trujillo\n",
      "Classroom Technology: board smart smart board rbn hate projector working zulma trujillo sound working projector\n",
      "None: borrow surface pros temporarily borrow monitor request borrow dakota request monitor temporarily pros mathematic mathematic mathematic dept\n",
      "Questions: student email write sar read write goal write goal student email address email address\n",
      "Delete: check thank 903 730 stated did require turned power uttua 3988 puter shut 730 3988 login\n"
     ]
    }
   ],
   "source": [
    "show_top10(naive_clf, vect, email_df[\"Category\"].unique())"
   ]
  },
  {
   "cell_type": "markdown",
   "metadata": {},
   "source": [
    "# Further Improvements"
   ]
  }
 ],
 "metadata": {
  "kernelspec": {
   "display_name": "Python 3",
   "language": "python",
   "name": "python3"
  },
  "language_info": {
   "codemirror_mode": {
    "name": "ipython",
    "version": 3
   },
   "file_extension": ".py",
   "mimetype": "text/x-python",
   "name": "python",
   "nbconvert_exporter": "python",
   "pygments_lexer": "ipython3",
   "version": "3.7.2"
  }
 },
 "nbformat": 4,
 "nbformat_minor": 2
}
